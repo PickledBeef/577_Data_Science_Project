{
 "cells": [
  {
   "cell_type": "markdown",
   "metadata": {},
   "source": [
    "# Load a csv data into postgres"
   ]
  },
  {
   "cell_type": "code",
   "execution_count": null,
   "metadata": {},
   "outputs": [],
   "source": [
    "CSV_FILEPATH = \"./city.csv\""
   ]
  },
  {
   "cell_type": "code",
   "execution_count": 3,
   "metadata": {},
   "outputs": [],
   "source": [
    "import psycopg2\n",
    "conn = psycopg2.connect(host=\"localhost\",database=\"t81577\", user=\"postgres\", password=\"plus1plus1\")"
   ]
  },
  {
   "cell_type": "code",
   "execution_count": 4,
   "metadata": {},
   "outputs": [],
   "source": [
    "cur = conn.cursor()"
   ]
  },
  {
   "cell_type": "code",
   "execution_count": 6,
   "metadata": {},
   "outputs": [],
   "source": [
    "cur.execute(\"\"\"\n",
    "CREATE TABLE cities(\n",
    "id integer PRIMARY KEY,\n",
    "lat text,\n",
    "lon text,\n",
    "city text,\n",
    "state text)\n",
    "\"\"\")\n",
    "conn.commit()\n",
    "cur.close()\n",
    "conn.close()"
   ]
  },
  {
   "cell_type": "code",
   "execution_count": 11,
   "metadata": {},
   "outputs": [
    {
     "data": {
      "text/plain": [
       "<_io.TextIOWrapper name='./city.csv' mode='r' encoding='cp936'>"
      ]
     },
     "metadata": {},
     "output_type": "display_data"
    }
   ],
   "source": [
    "CSV_FILEPATH = \"./city.csv\"\n",
    "conn = psycopg2.connect(host=\"localhost\",database=\"t81577\", user=\"postgres\", password=\"plus1plus1\")\n",
    "cur = conn.cursor()\n",
    "with open(CSV_FILEPATH, \"r\") as f:\n",
    "    display(f)\n",
    "    next(f) # Skip the header row.\n",
    "    cur.copy_from(f, 'cities', sep=',')\n",
    "conn.commit()\n",
    "cur.close()\n",
    "conn.close()"
   ]
  },
  {
   "cell_type": "code",
   "execution_count": 12,
   "metadata": {},
   "outputs": [],
   "source": [
    "conn = psycopg2.connect(host=\"localhost\",database=\"t81577\", user=\"postgres\", password=\"plus1plus1\")\n",
    "cur = conn.cursor()\n",
    "sql = \"\"\"SELECT * from cities\"\"\"\n",
    "cur.execute(sql)\n",
    "records = cur.fetchall()\n",
    "cur.close()\n",
    "conn.close()"
   ]
  },
  {
   "cell_type": "code",
   "execution_count": 13,
   "metadata": {},
   "outputs": [
    {
     "data": {
      "text/plain": [
       "list"
      ]
     },
     "execution_count": 13,
     "metadata": {},
     "output_type": "execute_result"
    }
   ],
   "source": [
    "type(records)"
   ]
  },
  {
   "cell_type": "code",
   "execution_count": 45,
   "metadata": {},
   "outputs": [],
   "source": [
    "conn = psycopg2.connect(host=\"localhost\",database=\"t81577\", user=\"postgres\", password=\"plus1plus1\")\n",
    "cur = conn.cursor()"
   ]
  },
  {
   "cell_type": "code",
   "execution_count": 46,
   "metadata": {},
   "outputs": [
    {
     "data": {
      "text/plain": [
       "[('\" \"\"Youngstown\"\"\"', ' OH'),\n",
       " ('\" \"\"Yankton\"\"\"', ' SD'),\n",
       " ('\" \"\"Yakima\"\"\"', ' WA'),\n",
       " ('\" \"\"Worcester\"\"\"', ' MA'),\n",
       " ('\" \"\"Wisconsin Dells\"\"\"', ' WI'),\n",
       " ('\" \"\"Winston-Salem\"\"\"', ' NC'),\n",
       " ('\" \"\"Winnipeg\"\"\"', ' MB'),\n",
       " ('\" \"\"Winchester\"\"\"', ' VA'),\n",
       " ('\" \"\"Wilmington\"\"\"', ' NC'),\n",
       " ('\" \"\"Wilmington\"\"\"', ' DE'),\n",
       " ('\" \"\"Williston\"\"\"', ' ND'),\n",
       " ('\" \"\"Williamsport\"\"\"', ' PA'),\n",
       " ('\" \"\"Williamson\"\"\"', ' WV'),\n",
       " ('\" \"\"Wichita Falls\"\"\"', ' TX'),\n",
       " ('\" \"\"Wichita\"\"\"', ' KS'),\n",
       " ('\" \"\"Wheeling\"\"\"', ' WV'),\n",
       " ('\" \"\"West Palm Beach\"\"\"', ' FL'),\n",
       " ('\" \"\"Wenatchee\"\"\"', ' WA'),\n",
       " ('\" \"\"Weed\"\"\"', ' CA'),\n",
       " ('\" \"\"Waycross\"\"\"', ' GA'),\n",
       " ('\" \"\"Wausau\"\"\"', ' WI'),\n",
       " ('\" \"\"Waukegan\"\"\"', ' IL'),\n",
       " ('\" \"\"Watertown\"\"\"', ' SD'),\n",
       " ('\" \"\"Watertown\"\"\"', ' NY'),\n",
       " ('\" \"\"Waterloo\"\"\"', ' IA'),\n",
       " ('\" \"\"Waterbury\"\"\"', ' CT'),\n",
       " ('\" \"\"Washington\"\"\"', ' DC'),\n",
       " ('\" \"\"Warren\"\"\"', ' PA'),\n",
       " ('\" \"\"Walla Walla\"\"\"', ' WA'),\n",
       " ('\" \"\"Waco\"\"\"', ' TX'),\n",
       " ('\" \"\"Vincennes\"\"\"', ' IN'),\n",
       " ('\" \"\"Victoria\"\"\"', ' TX'),\n",
       " ('\" \"\"Vicksburg\"\"\"', ' MS'),\n",
       " ('\" \"\"Vancouver\"\"\"', ' BC'),\n",
       " ('\" \"\"Valley City\"\"\"', ' ND'),\n",
       " ('\" \"\"Valdosta\"\"\"', ' GA'),\n",
       " ('\" \"\"Utica\"\"\"', ' NY'),\n",
       " ('\" \"\"Uniontown\"\"\"', ' PA'),\n",
       " ('\" \"\"Tyler\"\"\"', ' TX'),\n",
       " ('\" \"\"Twin Falls\"\"\"', ' ID'),\n",
       " ('\" \"\"Tuscaloosa\"\"\"', ' AL'),\n",
       " ('\" \"\"Tupelo\"\"\"', ' MS'),\n",
       " ('\" \"\"Tulsa\"\"\"', ' OK'),\n",
       " ('\" \"\"Tucson\"\"\"', ' AZ'),\n",
       " ('\" \"\"Trinidad\"\"\"', ' CO'),\n",
       " ('\" \"\"Trenton\"\"\"', ' NJ'),\n",
       " ('\" \"\"Traverse City\"\"\"', ' MI'),\n",
       " ('\" \"\"Toronto\"\"\"', ' ON'),\n",
       " ('\" \"\"Topeka\"\"\"', ' KS'),\n",
       " ('\" \"\"Toledo\"\"\"', ' OH'),\n",
       " ('\" \"\"Texarkana\"\"\"', ' TX'),\n",
       " ('\" \"\"Terre Haute\"\"\"', ' IN'),\n",
       " ('\" \"\"Tampa\"\"\"', ' FL'),\n",
       " ('\" \"\"Tallahassee\"\"\"', ' FL'),\n",
       " ('\" \"\"Tacoma\"\"\"', ' WA'),\n",
       " ('\" \"\"Syracuse\"\"\"', ' NY'),\n",
       " ('\" \"\"Swainsboro\"\"\"', ' GA'),\n",
       " ('\" \"\"Sumter\"\"\"', ' SC'),\n",
       " ('\" \"\"Stroudsburg\"\"\"', ' PA'),\n",
       " ('\" \"\"Stockton\"\"\"', ' CA'),\n",
       " ('\" \"\"Stevens Point\"\"\"', ' WI'),\n",
       " ('\" \"\"Steubenville\"\"\"', ' OH'),\n",
       " ('\" \"\"Sterling\"\"\"', ' CO'),\n",
       " ('\" \"\"Staunton\"\"\"', ' VA'),\n",
       " ('\" \"\"Springfield\"\"\"', ' OH'),\n",
       " ('\" \"\"Springfield\"\"\"', ' MO'),\n",
       " ('\" \"\"Springfield\"\"\"', ' MA'),\n",
       " ('\" \"\"Springfield\"\"\"', ' IL'),\n",
       " ('\" \"\"Spokane\"\"\"', ' WA'),\n",
       " ('\" \"\"South Bend\"\"\"', ' IN'),\n",
       " ('\" \"\"Sioux Falls\"\"\"', ' SD'),\n",
       " ('\" \"\"Sioux City\"\"\"', ' IA'),\n",
       " ('\" \"\"Shreveport\"\"\"', ' LA'),\n",
       " ('\" \"\"Sherman\"\"\"', ' TX'),\n",
       " ('\" \"\"Sheridan\"\"\"', ' WY'),\n",
       " ('\" \"\"Seminole\"\"\"', ' OK'),\n",
       " ('\" \"\"Selma\"\"\"', ' AL'),\n",
       " ('\" \"\"Sedalia\"\"\"', ' MO'),\n",
       " ('\" \"\"Seattle\"\"\"', ' WA'),\n",
       " ('\" \"\"Scranton\"\"\"', ' PA'),\n",
       " ('\" \"\"Scottsbluff\"\"\"', ' NB'),\n",
       " ('\" \"\"Schenectady\"\"\"', ' NY'),\n",
       " ('\" \"\"Savannah\"\"\"', ' GA'),\n",
       " ('\" \"\"Sault Sainte Marie\"\"\"', ' MI'),\n",
       " ('\" \"\"Sarasota\"\"\"', ' FL'),\n",
       " ('\" \"\"Santa Rosa\"\"\"', ' CA'),\n",
       " ('\" \"\"Santa Fe\"\"\"', ' NM'),\n",
       " ('\" \"\"Santa Barbara\"\"\"', ' CA'),\n",
       " ('\" \"\"Santa Ana\"\"\"', ' CA'),\n",
       " ('\" \"\"San Jose\"\"\"', ' CA'),\n",
       " ('\" \"\"San Francisco\"\"\"', ' CA'),\n",
       " ('\" \"\"Sandusky\"\"\"', ' OH'),\n",
       " ('\" \"\"San Diego\"\"\"', ' CA'),\n",
       " ('\" \"\"San Bernardino\"\"\"', ' CA'),\n",
       " ('\" \"\"San Antonio\"\"\"', ' TX'),\n",
       " ('\" \"\"San Angelo\"\"\"', ' TX'),\n",
       " ('\" \"\"Salt Lake City\"\"\"', ' UT'),\n",
       " ('\" \"\"Salisbury\"\"\"', ' MD'),\n",
       " ('\" \"\"Salinas\"\"\"', ' CA'),\n",
       " ('\" \"\"Salina\"\"\"', ' KS'),\n",
       " ('\" \"\"Salida\"\"\"', ' CO'),\n",
       " ('\" \"\"Salem\"\"\"', ' OR'),\n",
       " ('\" \"\"Saint Paul\"\"\"', ' MN'),\n",
       " ('\" \"\"Saint Louis\"\"\"', ' MO'),\n",
       " ('\" \"\"Saint Joseph\"\"\"', ' MO'),\n",
       " ('\" \"\"Saint Joseph\"\"\"', ' MI'),\n",
       " ('\" \"\"Saint Johnsbury\"\"\"', ' VT'),\n",
       " ('\" \"\"Saint Cloud\"\"\"', ' MN'),\n",
       " ('\" \"\"Saint Augustine\"\"\"', ' FL'),\n",
       " ('\" \"\"Saginaw\"\"\"', ' MI'),\n",
       " ('\" \"\"Sacramento\"\"\"', ' CA'),\n",
       " ('\" \"\"Rutland\"\"\"', ' VT'),\n",
       " ('\" \"\"Roswell\"\"\"', ' NM'),\n",
       " ('\" \"\"Rocky Mount\"\"\"', ' NC'),\n",
       " ('\" \"\"Rock Springs\"\"\"', ' WY'),\n",
       " ('\" \"\"Rockford\"\"\"', ' IL'),\n",
       " ('\" \"\"Rochester\"\"\"', ' NY'),\n",
       " ('\" \"\"Rochester\"\"\"', ' MN'),\n",
       " ('\" \"\"Roanoke\"\"\"', ' VA'),\n",
       " ('\" \"\"Richmond\"\"\"', ' VA'),\n",
       " ('\" \"\"Richmond\"\"\"', ' IN'),\n",
       " ('\" \"\"Richfield\"\"\"', ' UT'),\n",
       " ('\" \"\"Rhinelander\"\"\"', ' WI'),\n",
       " ('\" \"\"Reno\"\"\"', ' NV'),\n",
       " ('\" \"\"Regina\"\"\"', ' SA'),\n",
       " ('\" \"\"Red Bluff\"\"\"', ' CA'),\n",
       " ('\" \"\"Reading\"\"\"', ' PA'),\n",
       " ('\" \"\"Ravenna\"\"\"', ' OH ')]"
      ]
     },
     "metadata": {},
     "output_type": "display_data"
    }
   ],
   "source": [
    "sql = \"\"\"SELECT city,state FROM cities\"\"\"\n",
    "cur.execute(sql)\n",
    "# display(cur.fetchmany(10))\n",
    "display(cur.fetchall())\n",
    "conn.commit()"
   ]
  },
  {
   "cell_type": "code",
   "execution_count": 47,
   "metadata": {},
   "outputs": [],
   "source": [
    "sql = \"\"\"\n",
    "select column_name,data_type \n",
    "from information_schema.columns \n",
    "where table_name = 'cities';\n",
    "\"\"\"\n",
    "cur.execute(sql)"
   ]
  },
  {
   "cell_type": "code",
   "execution_count": 48,
   "metadata": {},
   "outputs": [
    {
     "data": {
      "text/plain": [
       "[('id', 'integer'),\n",
       " ('lat', 'text'),\n",
       " ('lon', 'text'),\n",
       " ('city', 'text'),\n",
       " ('state', 'text')]"
      ]
     },
     "execution_count": 48,
     "metadata": {},
     "output_type": "execute_result"
    }
   ],
   "source": [
    "cur.fetchall()"
   ]
  },
  {
   "cell_type": "code",
   "execution_count": 49,
   "metadata": {},
   "outputs": [],
   "source": [
    "sql = \"\"\"\n",
    "alter table cities alter column lon type integer USING lon::integer;\n",
    "select column_name,data_type \n",
    "from information_schema.columns \n",
    "where table_name = 'cities';\n",
    "\"\"\"\n",
    "cur.execute(sql)"
   ]
  },
  {
   "cell_type": "code",
   "execution_count": 50,
   "metadata": {},
   "outputs": [
    {
     "data": {
      "text/plain": [
       "[('id', 'integer'),\n",
       " ('lon', 'integer'),\n",
       " ('lat', 'text'),\n",
       " ('city', 'text'),\n",
       " ('state', 'text')]"
      ]
     },
     "execution_count": 50,
     "metadata": {},
     "output_type": "execute_result"
    }
   ],
   "source": [
    "cur.fetchall()"
   ]
  },
  {
   "cell_type": "code",
   "execution_count": 51,
   "metadata": {},
   "outputs": [
    {
     "data": {
      "text/plain": [
       "[('\" \"\"Worcester\"\"\"', ' MA'),\n",
       " ('\" \"\"Winchester\"\"\"', ' VA'),\n",
       " ('\" \"\"Wilmington\"\"\"', ' NC'),\n",
       " ('\" \"\"Wilmington\"\"\"', ' DE'),\n",
       " ('\" \"\"Williamsport\"\"\"', ' PA'),\n",
       " ('\" \"\"Watertown\"\"\"', ' NY'),\n",
       " ('\" \"\"Waterbury\"\"\"', ' CT'),\n",
       " ('\" \"\"Washington\"\"\"', ' DC'),\n",
       " ('\" \"\"Warren\"\"\"', ' PA'),\n",
       " ('\" \"\"Utica\"\"\"', ' NY'),\n",
       " ('\" \"\"Uniontown\"\"\"', ' PA'),\n",
       " ('\" \"\"Trenton\"\"\"', ' NJ'),\n",
       " ('\" \"\"Toronto\"\"\"', ' ON'),\n",
       " ('\" \"\"Syracuse\"\"\"', ' NY'),\n",
       " ('\" \"\"Stroudsburg\"\"\"', ' PA'),\n",
       " ('\" \"\"Staunton\"\"\"', ' VA'),\n",
       " ('\" \"\"Springfield\"\"\"', ' MA'),\n",
       " ('\" \"\"Scranton\"\"\"', ' PA'),\n",
       " ('\" \"\"Schenectady\"\"\"', ' NY'),\n",
       " ('\" \"\"Salisbury\"\"\"', ' MD'),\n",
       " ('\" \"\"Saint Johnsbury\"\"\"', ' VT'),\n",
       " ('\" \"\"Rutland\"\"\"', ' VT'),\n",
       " ('\" \"\"Rocky Mount\"\"\"', ' NC'),\n",
       " ('\" \"\"Rochester\"\"\"', ' NY'),\n",
       " ('\" \"\"Roanoke\"\"\"', ' VA'),\n",
       " ('\" \"\"Richmond\"\"\"', ' VA'),\n",
       " ('\" \"\"Reading\"\"\"', ' PA')]"
      ]
     },
     "execution_count": 51,
     "metadata": {},
     "output_type": "execute_result"
    }
   ],
   "source": [
    "sql = \"\"\"SELECT city,state FROM cities WHERE lon < 80\"\"\"\n",
    "cur.execute(sql)\n",
    "cur.fetchall()"
   ]
  },
  {
   "cell_type": "code",
   "execution_count": 52,
   "metadata": {},
   "outputs": [],
   "source": [
    "conn.commit()\n",
    "cur.close()\n",
    "conn.close()"
   ]
  },
  {
   "cell_type": "code",
   "execution_count": 54,
   "metadata": {},
   "outputs": [
    {
     "data": {
      "text/plain": [
       "[('\" \"\"Reading\"\"\"', ' PA'),\n",
       " ('\" \"\"Richmond\"\"\"', ' VA'),\n",
       " ('\" \"\"Roanoke\"\"\"', ' VA'),\n",
       " ('\" \"\"Rochester\"\"\"', ' NY'),\n",
       " ('\" \"\"Rocky Mount\"\"\"', ' NC'),\n",
       " ('\" \"\"Rutland\"\"\"', ' VT'),\n",
       " ('\" \"\"Saint Johnsbury\"\"\"', ' VT'),\n",
       " ('\" \"\"Salisbury\"\"\"', ' MD'),\n",
       " ('\" \"\"Schenectady\"\"\"', ' NY'),\n",
       " ('\" \"\"Scranton\"\"\"', ' PA'),\n",
       " ('\" \"\"Springfield\"\"\"', ' MA'),\n",
       " ('\" \"\"Staunton\"\"\"', ' VA'),\n",
       " ('\" \"\"Stroudsburg\"\"\"', ' PA'),\n",
       " ('\" \"\"Syracuse\"\"\"', ' NY'),\n",
       " ('\" \"\"Toronto\"\"\"', ' ON'),\n",
       " ('\" \"\"Trenton\"\"\"', ' NJ'),\n",
       " ('\" \"\"Uniontown\"\"\"', ' PA'),\n",
       " ('\" \"\"Utica\"\"\"', ' NY'),\n",
       " ('\" \"\"Warren\"\"\"', ' PA'),\n",
       " ('\" \"\"Washington\"\"\"', ' DC'),\n",
       " ('\" \"\"Waterbury\"\"\"', ' CT'),\n",
       " ('\" \"\"Watertown\"\"\"', ' NY'),\n",
       " ('\" \"\"Williamsport\"\"\"', ' PA'),\n",
       " ('\" \"\"Wilmington\"\"\"', ' DE'),\n",
       " ('\" \"\"Wilmington\"\"\"', ' NC'),\n",
       " ('\" \"\"Winchester\"\"\"', ' VA'),\n",
       " ('\" \"\"Worcester\"\"\"', ' MA')]"
      ]
     },
     "execution_count": 54,
     "metadata": {},
     "output_type": "execute_result"
    }
   ],
   "source": [
    "def get_city_data(sql):\n",
    "    try:\n",
    "        conn = psycopg2.connect(host=\"localhost\",database=\"t81577\", user=\"postgres\", password=\"plus1plus1\") #haha\n",
    "        cur = conn.cursor()\n",
    "        cur.execute(sql)\n",
    "        return cur.fetchall()\n",
    "\n",
    "    except (Exception, psycopg2.Error) as error:\n",
    "        print(\"Error fetching data from PostgreSQL table\", error)\n",
    "\n",
    "    finally:\n",
    "        if (conn):\n",
    "            cur.close()\n",
    "            conn.close()\n",
    "            \n",
    "sql = \"\"\"SELECT city,state FROM cities WHERE lon::integer <80 AND lat::integer >30 ORDER BY city\"\"\"\n",
    "get_city_data(sql)"
   ]
  },
  {
   "cell_type": "code",
   "execution_count": null,
   "metadata": {},
   "outputs": [],
   "source": []
  }
 ],
 "metadata": {
  "kernelspec": {
   "display_name": "Python 3",
   "language": "python",
   "name": "python3"
  },
  "language_info": {
   "codemirror_mode": {
    "name": "ipython",
    "version": 3
   },
   "file_extension": ".py",
   "mimetype": "text/x-python",
   "name": "python",
   "nbconvert_exporter": "python",
   "pygments_lexer": "ipython3",
   "version": "3.8.5"
  }
 },
 "nbformat": 4,
 "nbformat_minor": 4
}
