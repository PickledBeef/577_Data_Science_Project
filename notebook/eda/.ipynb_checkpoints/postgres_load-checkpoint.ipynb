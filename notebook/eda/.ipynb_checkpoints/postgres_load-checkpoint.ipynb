{
 "cells": [
  {
   "cell_type": "markdown",
   "metadata": {},
   "source": [
    "# Load a csv data into postgres"
   ]
  },
  {
   "cell_type": "code",
   "execution_count": 59,
   "metadata": {},
   "outputs": [
    {
     "ename": "ImportError",
     "evalue": "attempted relative import with no known parent package",
     "output_type": "error",
     "traceback": [
      "\u001b[1;31m---------------------------------------------------------------------------\u001b[0m",
      "\u001b[1;31mImportError\u001b[0m                               Traceback (most recent call last)",
      "\u001b[1;32m<ipython-input-59-4d14bb240559>\u001b[0m in \u001b[0;36m<module>\u001b[1;34m\u001b[0m\n\u001b[0;32m      1\u001b[0m \u001b[1;32mimport\u001b[0m \u001b[0mpandas\u001b[0m \u001b[1;32mas\u001b[0m \u001b[0mpd\u001b[0m\u001b[1;33m\u001b[0m\u001b[1;33m\u001b[0m\u001b[0m\n\u001b[1;32m----> 2\u001b[1;33m \u001b[1;32mfrom\u001b[0m \u001b[1;33m...\u001b[0m \u001b[1;32mimport\u001b[0m \u001b[0mdata\u001b[0m\u001b[1;33m\u001b[0m\u001b[1;33m\u001b[0m\u001b[0m\n\u001b[0m",
      "\u001b[1;31mImportError\u001b[0m: attempted relative import with no known parent package"
     ]
    }
   ],
   "source": [
    "import pandas as pd\n",
    "from pathlib import Path"
   ]
  },
  {
   "cell_type": "code",
   "execution_count": 139,
   "metadata": {},
   "outputs": [
    {
     "name": "stdout",
     "output_type": "stream",
     "text": [
      "C:\\Users\\flywi\\Desktop\\WUSTL 2021 Spring\\577 Applied Data Science for Practitioners\\project\\577_Data_Science_Project\\notebook\\eda\n",
      "C:\\Users\\flywi\\Desktop\\WUSTL 2021 Spring\\577 Applied Data Science for Practitioners\\project\\577_Data_Science_Project\n"
     ]
    }
   ],
   "source": [
    "path = Path(\"./postgres_load.ipynb\")\n",
    "abs_path = str(path.parent.absolute())\n",
    "index = [i for i, e in enumerate(abs_path) if e == \"\\\\\"]      \n",
    "parent_path = abs_path[:index[-2]]"
   ]
  },
  {
   "cell_type": "code",
   "execution_count": 140,
   "metadata": {},
   "outputs": [],
   "source": [
    "file_path = parent_path + \"/data/raw/IPEDS_data.xlsx\""
   ]
  },
  {
   "cell_type": "code",
   "execution_count": 141,
   "metadata": {},
   "outputs": [],
   "source": [
    "raw = pd.read_excel(file_path, sheet_name=0)"
   ]
  },
  {
   "cell_type": "code",
   "execution_count": 142,
   "metadata": {},
   "outputs": [
    {
     "data": {
      "text/html": [
       "<div>\n",
       "<style scoped>\n",
       "    .dataframe tbody tr th:only-of-type {\n",
       "        vertical-align: middle;\n",
       "    }\n",
       "\n",
       "    .dataframe tbody tr th {\n",
       "        vertical-align: top;\n",
       "    }\n",
       "\n",
       "    .dataframe thead th {\n",
       "        text-align: right;\n",
       "    }\n",
       "</style>\n",
       "<table border=\"1\" class=\"dataframe\">\n",
       "  <thead>\n",
       "    <tr style=\"text-align: right;\">\n",
       "      <th></th>\n",
       "      <th>ID number</th>\n",
       "      <th>Name</th>\n",
       "      <th>year</th>\n",
       "      <th>ZIP code</th>\n",
       "      <th>Highest degree offered</th>\n",
       "      <th>County name</th>\n",
       "      <th>Longitude location of institution</th>\n",
       "      <th>Latitude location of institution</th>\n",
       "      <th>Religious affiliation</th>\n",
       "      <th>Offers Less than one year certificate</th>\n",
       "      <th>...</th>\n",
       "      <th>Percent of freshmen  receiving federal grant aid</th>\n",
       "      <th>Percent of freshmen receiving Pell grants</th>\n",
       "      <th>Percent of freshmen receiving other federal grant aid</th>\n",
       "      <th>Percent of freshmen receiving state/local grant aid</th>\n",
       "      <th>Percent of freshmen receiving institutional grant aid</th>\n",
       "      <th>Percent of freshmen receiving student loan aid</th>\n",
       "      <th>Percent of freshmen receiving federal student loans</th>\n",
       "      <th>Percent of freshmen receiving other loan aid</th>\n",
       "      <th>Endowment assets (year end) per FTE enrollment (GASB)</th>\n",
       "      <th>Endowment assets (year end) per FTE enrollment (FASB)</th>\n",
       "    </tr>\n",
       "  </thead>\n",
       "  <tbody>\n",
       "    <tr>\n",
       "      <th>0</th>\n",
       "      <td>100654</td>\n",
       "      <td>Alabama A &amp; M University</td>\n",
       "      <td>2013</td>\n",
       "      <td>35762</td>\n",
       "      <td>Doctor's degree - research/scholarship</td>\n",
       "      <td>Madison County</td>\n",
       "      <td>-86.568502</td>\n",
       "      <td>34.783368</td>\n",
       "      <td>Not applicable</td>\n",
       "      <td>Implied no</td>\n",
       "      <td>...</td>\n",
       "      <td>81.0</td>\n",
       "      <td>81.0</td>\n",
       "      <td>7.0</td>\n",
       "      <td>1.0</td>\n",
       "      <td>32.0</td>\n",
       "      <td>89.0</td>\n",
       "      <td>89.0</td>\n",
       "      <td>1.0</td>\n",
       "      <td>NaN</td>\n",
       "      <td>NaN</td>\n",
       "    </tr>\n",
       "    <tr>\n",
       "      <th>1</th>\n",
       "      <td>100663</td>\n",
       "      <td>University of Alabama at Birmingham</td>\n",
       "      <td>2013</td>\n",
       "      <td>35294-0110</td>\n",
       "      <td>Doctor's degree - research/scholarship and pro...</td>\n",
       "      <td>Jefferson County</td>\n",
       "      <td>-86.809170</td>\n",
       "      <td>33.502230</td>\n",
       "      <td>Not applicable</td>\n",
       "      <td>Implied no</td>\n",
       "      <td>...</td>\n",
       "      <td>36.0</td>\n",
       "      <td>36.0</td>\n",
       "      <td>10.0</td>\n",
       "      <td>0.0</td>\n",
       "      <td>60.0</td>\n",
       "      <td>56.0</td>\n",
       "      <td>55.0</td>\n",
       "      <td>5.0</td>\n",
       "      <td>24136.0</td>\n",
       "      <td>NaN</td>\n",
       "    </tr>\n",
       "    <tr>\n",
       "      <th>2</th>\n",
       "      <td>100690</td>\n",
       "      <td>Amridge University</td>\n",
       "      <td>2013</td>\n",
       "      <td>36117-3553</td>\n",
       "      <td>Doctor's degree - research/scholarship and pro...</td>\n",
       "      <td>Montgomery County</td>\n",
       "      <td>-86.174010</td>\n",
       "      <td>32.362609</td>\n",
       "      <td>Churches of Christ</td>\n",
       "      <td>Implied no</td>\n",
       "      <td>...</td>\n",
       "      <td>90.0</td>\n",
       "      <td>90.0</td>\n",
       "      <td>0.0</td>\n",
       "      <td>40.0</td>\n",
       "      <td>90.0</td>\n",
       "      <td>100.0</td>\n",
       "      <td>100.0</td>\n",
       "      <td>0.0</td>\n",
       "      <td>NaN</td>\n",
       "      <td>302.0</td>\n",
       "    </tr>\n",
       "    <tr>\n",
       "      <th>3</th>\n",
       "      <td>100706</td>\n",
       "      <td>University of Alabama in Huntsville</td>\n",
       "      <td>2013</td>\n",
       "      <td>35899</td>\n",
       "      <td>Doctor's degree - research/scholarship and pro...</td>\n",
       "      <td>Madison County</td>\n",
       "      <td>-86.638420</td>\n",
       "      <td>34.722818</td>\n",
       "      <td>Not applicable</td>\n",
       "      <td>Yes</td>\n",
       "      <td>...</td>\n",
       "      <td>31.0</td>\n",
       "      <td>31.0</td>\n",
       "      <td>4.0</td>\n",
       "      <td>1.0</td>\n",
       "      <td>63.0</td>\n",
       "      <td>46.0</td>\n",
       "      <td>46.0</td>\n",
       "      <td>3.0</td>\n",
       "      <td>11502.0</td>\n",
       "      <td>NaN</td>\n",
       "    </tr>\n",
       "    <tr>\n",
       "      <th>4</th>\n",
       "      <td>100724</td>\n",
       "      <td>Alabama State University</td>\n",
       "      <td>2013</td>\n",
       "      <td>36104-0271</td>\n",
       "      <td>Doctor's degree - research/scholarship and pro...</td>\n",
       "      <td>Montgomery County</td>\n",
       "      <td>-86.295677</td>\n",
       "      <td>32.364317</td>\n",
       "      <td>Not applicable</td>\n",
       "      <td>Implied no</td>\n",
       "      <td>...</td>\n",
       "      <td>76.0</td>\n",
       "      <td>76.0</td>\n",
       "      <td>13.0</td>\n",
       "      <td>11.0</td>\n",
       "      <td>34.0</td>\n",
       "      <td>81.0</td>\n",
       "      <td>81.0</td>\n",
       "      <td>0.0</td>\n",
       "      <td>13202.0</td>\n",
       "      <td>NaN</td>\n",
       "    </tr>\n",
       "  </tbody>\n",
       "</table>\n",
       "<p>5 rows × 145 columns</p>\n",
       "</div>"
      ],
      "text/plain": [
       "   ID number                                 Name  year    ZIP code  \\\n",
       "0     100654             Alabama A & M University  2013       35762   \n",
       "1     100663  University of Alabama at Birmingham  2013  35294-0110   \n",
       "2     100690                   Amridge University  2013  36117-3553   \n",
       "3     100706  University of Alabama in Huntsville  2013       35899   \n",
       "4     100724             Alabama State University  2013  36104-0271   \n",
       "\n",
       "                              Highest degree offered        County name  \\\n",
       "0             Doctor's degree - research/scholarship     Madison County   \n",
       "1  Doctor's degree - research/scholarship and pro...   Jefferson County   \n",
       "2  Doctor's degree - research/scholarship and pro...  Montgomery County   \n",
       "3  Doctor's degree - research/scholarship and pro...     Madison County   \n",
       "4  Doctor's degree - research/scholarship and pro...  Montgomery County   \n",
       "\n",
       "   Longitude location of institution  Latitude location of institution  \\\n",
       "0                         -86.568502                         34.783368   \n",
       "1                         -86.809170                         33.502230   \n",
       "2                         -86.174010                         32.362609   \n",
       "3                         -86.638420                         34.722818   \n",
       "4                         -86.295677                         32.364317   \n",
       "\n",
       "  Religious affiliation Offers Less than one year certificate  ...  \\\n",
       "0        Not applicable                            Implied no  ...   \n",
       "1        Not applicable                            Implied no  ...   \n",
       "2    Churches of Christ                            Implied no  ...   \n",
       "3        Not applicable                                   Yes  ...   \n",
       "4        Not applicable                            Implied no  ...   \n",
       "\n",
       "  Percent of freshmen  receiving federal grant aid  \\\n",
       "0                                             81.0   \n",
       "1                                             36.0   \n",
       "2                                             90.0   \n",
       "3                                             31.0   \n",
       "4                                             76.0   \n",
       "\n",
       "  Percent of freshmen receiving Pell grants  \\\n",
       "0                                      81.0   \n",
       "1                                      36.0   \n",
       "2                                      90.0   \n",
       "3                                      31.0   \n",
       "4                                      76.0   \n",
       "\n",
       "  Percent of freshmen receiving other federal grant aid  \\\n",
       "0                                                7.0      \n",
       "1                                               10.0      \n",
       "2                                                0.0      \n",
       "3                                                4.0      \n",
       "4                                               13.0      \n",
       "\n",
       "  Percent of freshmen receiving state/local grant aid  \\\n",
       "0                                                1.0    \n",
       "1                                                0.0    \n",
       "2                                               40.0    \n",
       "3                                                1.0    \n",
       "4                                               11.0    \n",
       "\n",
       "  Percent of freshmen receiving institutional grant aid  \\\n",
       "0                                               32.0      \n",
       "1                                               60.0      \n",
       "2                                               90.0      \n",
       "3                                               63.0      \n",
       "4                                               34.0      \n",
       "\n",
       "  Percent of freshmen receiving student loan aid  \\\n",
       "0                                           89.0   \n",
       "1                                           56.0   \n",
       "2                                          100.0   \n",
       "3                                           46.0   \n",
       "4                                           81.0   \n",
       "\n",
       "  Percent of freshmen receiving federal student loans  \\\n",
       "0                                               89.0    \n",
       "1                                               55.0    \n",
       "2                                              100.0    \n",
       "3                                               46.0    \n",
       "4                                               81.0    \n",
       "\n",
       "  Percent of freshmen receiving other loan aid  \\\n",
       "0                                          1.0   \n",
       "1                                          5.0   \n",
       "2                                          0.0   \n",
       "3                                          3.0   \n",
       "4                                          0.0   \n",
       "\n",
       "  Endowment assets (year end) per FTE enrollment (GASB)  \\\n",
       "0                                                NaN      \n",
       "1                                            24136.0      \n",
       "2                                                NaN      \n",
       "3                                            11502.0      \n",
       "4                                            13202.0      \n",
       "\n",
       "  Endowment assets (year end) per FTE enrollment (FASB)  \n",
       "0                                                NaN     \n",
       "1                                                NaN     \n",
       "2                                              302.0     \n",
       "3                                                NaN     \n",
       "4                                                NaN     \n",
       "\n",
       "[5 rows x 145 columns]"
      ]
     },
     "execution_count": 142,
     "metadata": {},
     "output_type": "execute_result"
    }
   ],
   "source": [
    "raw.head()"
   ]
  },
  {
   "cell_type": "code",
   "execution_count": 3,
   "metadata": {},
   "outputs": [],
   "source": [
    "import psycopg2\n",
    "conn = psycopg2.connect(host=\"localhost\",database=\"t81577\", user=\"postgres\", password=\"plus1plus1\")"
   ]
  },
  {
   "cell_type": "code",
   "execution_count": 4,
   "metadata": {},
   "outputs": [],
   "source": [
    "cur = conn.cursor()"
   ]
  },
  {
   "cell_type": "code",
   "execution_count": 6,
   "metadata": {},
   "outputs": [],
   "source": [
    "cur.execute(\"\"\"\n",
    "CREATE TABLE cities(\n",
    "id integer PRIMARY KEY,\n",
    "lat text,\n",
    "lon text,\n",
    "city text,\n",
    "state text)\n",
    "\"\"\")\n",
    "conn.commit()\n",
    "cur.close()\n",
    "conn.close()"
   ]
  },
  {
   "cell_type": "code",
   "execution_count": 11,
   "metadata": {},
   "outputs": [
    {
     "data": {
      "text/plain": [
       "<_io.TextIOWrapper name='./city.csv' mode='r' encoding='cp936'>"
      ]
     },
     "metadata": {},
     "output_type": "display_data"
    }
   ],
   "source": [
    "CSV_FILEPATH = \"./city.csv\"\n",
    "conn = psycopg2.connect(host=\"localhost\",database=\"t81577\", user=\"postgres\", password=\"plus1plus1\")\n",
    "cur = conn.cursor()\n",
    "with open(CSV_FILEPATH, \"r\") as f:\n",
    "    display(f)\n",
    "    next(f) # Skip the header row.\n",
    "    cur.copy_from(f, 'cities', sep=',')\n",
    "conn.commit()\n",
    "cur.close()\n",
    "conn.close()"
   ]
  },
  {
   "cell_type": "code",
   "execution_count": 12,
   "metadata": {},
   "outputs": [],
   "source": [
    "conn = psycopg2.connect(host=\"localhost\",database=\"t81577\", user=\"postgres\", password=\"plus1plus1\")\n",
    "cur = conn.cursor()\n",
    "sql = \"\"\"SELECT * from cities\"\"\"\n",
    "cur.execute(sql)\n",
    "records = cur.fetchall()\n",
    "cur.close()\n",
    "conn.close()"
   ]
  },
  {
   "cell_type": "code",
   "execution_count": 13,
   "metadata": {},
   "outputs": [
    {
     "data": {
      "text/plain": [
       "list"
      ]
     },
     "execution_count": 13,
     "metadata": {},
     "output_type": "execute_result"
    }
   ],
   "source": [
    "type(records)"
   ]
  },
  {
   "cell_type": "code",
   "execution_count": 45,
   "metadata": {},
   "outputs": [],
   "source": [
    "conn = psycopg2.connect(host=\"localhost\",database=\"t81577\", user=\"postgres\", password=\"plus1plus1\")\n",
    "cur = conn.cursor()"
   ]
  },
  {
   "cell_type": "code",
   "execution_count": 46,
   "metadata": {},
   "outputs": [
    {
     "data": {
      "text/plain": [
       "[('\" \"\"Youngstown\"\"\"', ' OH'),\n",
       " ('\" \"\"Yankton\"\"\"', ' SD'),\n",
       " ('\" \"\"Yakima\"\"\"', ' WA'),\n",
       " ('\" \"\"Worcester\"\"\"', ' MA'),\n",
       " ('\" \"\"Wisconsin Dells\"\"\"', ' WI'),\n",
       " ('\" \"\"Winston-Salem\"\"\"', ' NC'),\n",
       " ('\" \"\"Winnipeg\"\"\"', ' MB'),\n",
       " ('\" \"\"Winchester\"\"\"', ' VA'),\n",
       " ('\" \"\"Wilmington\"\"\"', ' NC'),\n",
       " ('\" \"\"Wilmington\"\"\"', ' DE'),\n",
       " ('\" \"\"Williston\"\"\"', ' ND'),\n",
       " ('\" \"\"Williamsport\"\"\"', ' PA'),\n",
       " ('\" \"\"Williamson\"\"\"', ' WV'),\n",
       " ('\" \"\"Wichita Falls\"\"\"', ' TX'),\n",
       " ('\" \"\"Wichita\"\"\"', ' KS'),\n",
       " ('\" \"\"Wheeling\"\"\"', ' WV'),\n",
       " ('\" \"\"West Palm Beach\"\"\"', ' FL'),\n",
       " ('\" \"\"Wenatchee\"\"\"', ' WA'),\n",
       " ('\" \"\"Weed\"\"\"', ' CA'),\n",
       " ('\" \"\"Waycross\"\"\"', ' GA'),\n",
       " ('\" \"\"Wausau\"\"\"', ' WI'),\n",
       " ('\" \"\"Waukegan\"\"\"', ' IL'),\n",
       " ('\" \"\"Watertown\"\"\"', ' SD'),\n",
       " ('\" \"\"Watertown\"\"\"', ' NY'),\n",
       " ('\" \"\"Waterloo\"\"\"', ' IA'),\n",
       " ('\" \"\"Waterbury\"\"\"', ' CT'),\n",
       " ('\" \"\"Washington\"\"\"', ' DC'),\n",
       " ('\" \"\"Warren\"\"\"', ' PA'),\n",
       " ('\" \"\"Walla Walla\"\"\"', ' WA'),\n",
       " ('\" \"\"Waco\"\"\"', ' TX'),\n",
       " ('\" \"\"Vincennes\"\"\"', ' IN'),\n",
       " ('\" \"\"Victoria\"\"\"', ' TX'),\n",
       " ('\" \"\"Vicksburg\"\"\"', ' MS'),\n",
       " ('\" \"\"Vancouver\"\"\"', ' BC'),\n",
       " ('\" \"\"Valley City\"\"\"', ' ND'),\n",
       " ('\" \"\"Valdosta\"\"\"', ' GA'),\n",
       " ('\" \"\"Utica\"\"\"', ' NY'),\n",
       " ('\" \"\"Uniontown\"\"\"', ' PA'),\n",
       " ('\" \"\"Tyler\"\"\"', ' TX'),\n",
       " ('\" \"\"Twin Falls\"\"\"', ' ID'),\n",
       " ('\" \"\"Tuscaloosa\"\"\"', ' AL'),\n",
       " ('\" \"\"Tupelo\"\"\"', ' MS'),\n",
       " ('\" \"\"Tulsa\"\"\"', ' OK'),\n",
       " ('\" \"\"Tucson\"\"\"', ' AZ'),\n",
       " ('\" \"\"Trinidad\"\"\"', ' CO'),\n",
       " ('\" \"\"Trenton\"\"\"', ' NJ'),\n",
       " ('\" \"\"Traverse City\"\"\"', ' MI'),\n",
       " ('\" \"\"Toronto\"\"\"', ' ON'),\n",
       " ('\" \"\"Topeka\"\"\"', ' KS'),\n",
       " ('\" \"\"Toledo\"\"\"', ' OH'),\n",
       " ('\" \"\"Texarkana\"\"\"', ' TX'),\n",
       " ('\" \"\"Terre Haute\"\"\"', ' IN'),\n",
       " ('\" \"\"Tampa\"\"\"', ' FL'),\n",
       " ('\" \"\"Tallahassee\"\"\"', ' FL'),\n",
       " ('\" \"\"Tacoma\"\"\"', ' WA'),\n",
       " ('\" \"\"Syracuse\"\"\"', ' NY'),\n",
       " ('\" \"\"Swainsboro\"\"\"', ' GA'),\n",
       " ('\" \"\"Sumter\"\"\"', ' SC'),\n",
       " ('\" \"\"Stroudsburg\"\"\"', ' PA'),\n",
       " ('\" \"\"Stockton\"\"\"', ' CA'),\n",
       " ('\" \"\"Stevens Point\"\"\"', ' WI'),\n",
       " ('\" \"\"Steubenville\"\"\"', ' OH'),\n",
       " ('\" \"\"Sterling\"\"\"', ' CO'),\n",
       " ('\" \"\"Staunton\"\"\"', ' VA'),\n",
       " ('\" \"\"Springfield\"\"\"', ' OH'),\n",
       " ('\" \"\"Springfield\"\"\"', ' MO'),\n",
       " ('\" \"\"Springfield\"\"\"', ' MA'),\n",
       " ('\" \"\"Springfield\"\"\"', ' IL'),\n",
       " ('\" \"\"Spokane\"\"\"', ' WA'),\n",
       " ('\" \"\"South Bend\"\"\"', ' IN'),\n",
       " ('\" \"\"Sioux Falls\"\"\"', ' SD'),\n",
       " ('\" \"\"Sioux City\"\"\"', ' IA'),\n",
       " ('\" \"\"Shreveport\"\"\"', ' LA'),\n",
       " ('\" \"\"Sherman\"\"\"', ' TX'),\n",
       " ('\" \"\"Sheridan\"\"\"', ' WY'),\n",
       " ('\" \"\"Seminole\"\"\"', ' OK'),\n",
       " ('\" \"\"Selma\"\"\"', ' AL'),\n",
       " ('\" \"\"Sedalia\"\"\"', ' MO'),\n",
       " ('\" \"\"Seattle\"\"\"', ' WA'),\n",
       " ('\" \"\"Scranton\"\"\"', ' PA'),\n",
       " ('\" \"\"Scottsbluff\"\"\"', ' NB'),\n",
       " ('\" \"\"Schenectady\"\"\"', ' NY'),\n",
       " ('\" \"\"Savannah\"\"\"', ' GA'),\n",
       " ('\" \"\"Sault Sainte Marie\"\"\"', ' MI'),\n",
       " ('\" \"\"Sarasota\"\"\"', ' FL'),\n",
       " ('\" \"\"Santa Rosa\"\"\"', ' CA'),\n",
       " ('\" \"\"Santa Fe\"\"\"', ' NM'),\n",
       " ('\" \"\"Santa Barbara\"\"\"', ' CA'),\n",
       " ('\" \"\"Santa Ana\"\"\"', ' CA'),\n",
       " ('\" \"\"San Jose\"\"\"', ' CA'),\n",
       " ('\" \"\"San Francisco\"\"\"', ' CA'),\n",
       " ('\" \"\"Sandusky\"\"\"', ' OH'),\n",
       " ('\" \"\"San Diego\"\"\"', ' CA'),\n",
       " ('\" \"\"San Bernardino\"\"\"', ' CA'),\n",
       " ('\" \"\"San Antonio\"\"\"', ' TX'),\n",
       " ('\" \"\"San Angelo\"\"\"', ' TX'),\n",
       " ('\" \"\"Salt Lake City\"\"\"', ' UT'),\n",
       " ('\" \"\"Salisbury\"\"\"', ' MD'),\n",
       " ('\" \"\"Salinas\"\"\"', ' CA'),\n",
       " ('\" \"\"Salina\"\"\"', ' KS'),\n",
       " ('\" \"\"Salida\"\"\"', ' CO'),\n",
       " ('\" \"\"Salem\"\"\"', ' OR'),\n",
       " ('\" \"\"Saint Paul\"\"\"', ' MN'),\n",
       " ('\" \"\"Saint Louis\"\"\"', ' MO'),\n",
       " ('\" \"\"Saint Joseph\"\"\"', ' MO'),\n",
       " ('\" \"\"Saint Joseph\"\"\"', ' MI'),\n",
       " ('\" \"\"Saint Johnsbury\"\"\"', ' VT'),\n",
       " ('\" \"\"Saint Cloud\"\"\"', ' MN'),\n",
       " ('\" \"\"Saint Augustine\"\"\"', ' FL'),\n",
       " ('\" \"\"Saginaw\"\"\"', ' MI'),\n",
       " ('\" \"\"Sacramento\"\"\"', ' CA'),\n",
       " ('\" \"\"Rutland\"\"\"', ' VT'),\n",
       " ('\" \"\"Roswell\"\"\"', ' NM'),\n",
       " ('\" \"\"Rocky Mount\"\"\"', ' NC'),\n",
       " ('\" \"\"Rock Springs\"\"\"', ' WY'),\n",
       " ('\" \"\"Rockford\"\"\"', ' IL'),\n",
       " ('\" \"\"Rochester\"\"\"', ' NY'),\n",
       " ('\" \"\"Rochester\"\"\"', ' MN'),\n",
       " ('\" \"\"Roanoke\"\"\"', ' VA'),\n",
       " ('\" \"\"Richmond\"\"\"', ' VA'),\n",
       " ('\" \"\"Richmond\"\"\"', ' IN'),\n",
       " ('\" \"\"Richfield\"\"\"', ' UT'),\n",
       " ('\" \"\"Rhinelander\"\"\"', ' WI'),\n",
       " ('\" \"\"Reno\"\"\"', ' NV'),\n",
       " ('\" \"\"Regina\"\"\"', ' SA'),\n",
       " ('\" \"\"Red Bluff\"\"\"', ' CA'),\n",
       " ('\" \"\"Reading\"\"\"', ' PA'),\n",
       " ('\" \"\"Ravenna\"\"\"', ' OH ')]"
      ]
     },
     "metadata": {},
     "output_type": "display_data"
    }
   ],
   "source": [
    "sql = \"\"\"SELECT city,state FROM cities\"\"\"\n",
    "cur.execute(sql)\n",
    "# display(cur.fetchmany(10))\n",
    "display(cur.fetchall())\n",
    "conn.commit()"
   ]
  },
  {
   "cell_type": "code",
   "execution_count": 47,
   "metadata": {},
   "outputs": [],
   "source": [
    "sql = \"\"\"\n",
    "select column_name,data_type \n",
    "from information_schema.columns \n",
    "where table_name = 'cities';\n",
    "\"\"\"\n",
    "cur.execute(sql)"
   ]
  },
  {
   "cell_type": "code",
   "execution_count": 48,
   "metadata": {},
   "outputs": [
    {
     "data": {
      "text/plain": [
       "[('id', 'integer'),\n",
       " ('lat', 'text'),\n",
       " ('lon', 'text'),\n",
       " ('city', 'text'),\n",
       " ('state', 'text')]"
      ]
     },
     "execution_count": 48,
     "metadata": {},
     "output_type": "execute_result"
    }
   ],
   "source": [
    "cur.fetchall()"
   ]
  },
  {
   "cell_type": "code",
   "execution_count": 49,
   "metadata": {},
   "outputs": [],
   "source": [
    "sql = \"\"\"\n",
    "alter table cities alter column lon type integer USING lon::integer;\n",
    "select column_name,data_type \n",
    "from information_schema.columns \n",
    "where table_name = 'cities';\n",
    "\"\"\"\n",
    "cur.execute(sql)"
   ]
  },
  {
   "cell_type": "code",
   "execution_count": 50,
   "metadata": {},
   "outputs": [
    {
     "data": {
      "text/plain": [
       "[('id', 'integer'),\n",
       " ('lon', 'integer'),\n",
       " ('lat', 'text'),\n",
       " ('city', 'text'),\n",
       " ('state', 'text')]"
      ]
     },
     "execution_count": 50,
     "metadata": {},
     "output_type": "execute_result"
    }
   ],
   "source": [
    "cur.fetchall()"
   ]
  },
  {
   "cell_type": "code",
   "execution_count": 51,
   "metadata": {},
   "outputs": [
    {
     "data": {
      "text/plain": [
       "[('\" \"\"Worcester\"\"\"', ' MA'),\n",
       " ('\" \"\"Winchester\"\"\"', ' VA'),\n",
       " ('\" \"\"Wilmington\"\"\"', ' NC'),\n",
       " ('\" \"\"Wilmington\"\"\"', ' DE'),\n",
       " ('\" \"\"Williamsport\"\"\"', ' PA'),\n",
       " ('\" \"\"Watertown\"\"\"', ' NY'),\n",
       " ('\" \"\"Waterbury\"\"\"', ' CT'),\n",
       " ('\" \"\"Washington\"\"\"', ' DC'),\n",
       " ('\" \"\"Warren\"\"\"', ' PA'),\n",
       " ('\" \"\"Utica\"\"\"', ' NY'),\n",
       " ('\" \"\"Uniontown\"\"\"', ' PA'),\n",
       " ('\" \"\"Trenton\"\"\"', ' NJ'),\n",
       " ('\" \"\"Toronto\"\"\"', ' ON'),\n",
       " ('\" \"\"Syracuse\"\"\"', ' NY'),\n",
       " ('\" \"\"Stroudsburg\"\"\"', ' PA'),\n",
       " ('\" \"\"Staunton\"\"\"', ' VA'),\n",
       " ('\" \"\"Springfield\"\"\"', ' MA'),\n",
       " ('\" \"\"Scranton\"\"\"', ' PA'),\n",
       " ('\" \"\"Schenectady\"\"\"', ' NY'),\n",
       " ('\" \"\"Salisbury\"\"\"', ' MD'),\n",
       " ('\" \"\"Saint Johnsbury\"\"\"', ' VT'),\n",
       " ('\" \"\"Rutland\"\"\"', ' VT'),\n",
       " ('\" \"\"Rocky Mount\"\"\"', ' NC'),\n",
       " ('\" \"\"Rochester\"\"\"', ' NY'),\n",
       " ('\" \"\"Roanoke\"\"\"', ' VA'),\n",
       " ('\" \"\"Richmond\"\"\"', ' VA'),\n",
       " ('\" \"\"Reading\"\"\"', ' PA')]"
      ]
     },
     "execution_count": 51,
     "metadata": {},
     "output_type": "execute_result"
    }
   ],
   "source": [
    "sql = \"\"\"SELECT city,state FROM cities WHERE lon < 80\"\"\"\n",
    "cur.execute(sql)\n",
    "cur.fetchall()"
   ]
  },
  {
   "cell_type": "code",
   "execution_count": 52,
   "metadata": {},
   "outputs": [],
   "source": [
    "conn.commit()\n",
    "cur.close()\n",
    "conn.close()"
   ]
  },
  {
   "cell_type": "code",
   "execution_count": 54,
   "metadata": {},
   "outputs": [
    {
     "data": {
      "text/plain": [
       "[('\" \"\"Reading\"\"\"', ' PA'),\n",
       " ('\" \"\"Richmond\"\"\"', ' VA'),\n",
       " ('\" \"\"Roanoke\"\"\"', ' VA'),\n",
       " ('\" \"\"Rochester\"\"\"', ' NY'),\n",
       " ('\" \"\"Rocky Mount\"\"\"', ' NC'),\n",
       " ('\" \"\"Rutland\"\"\"', ' VT'),\n",
       " ('\" \"\"Saint Johnsbury\"\"\"', ' VT'),\n",
       " ('\" \"\"Salisbury\"\"\"', ' MD'),\n",
       " ('\" \"\"Schenectady\"\"\"', ' NY'),\n",
       " ('\" \"\"Scranton\"\"\"', ' PA'),\n",
       " ('\" \"\"Springfield\"\"\"', ' MA'),\n",
       " ('\" \"\"Staunton\"\"\"', ' VA'),\n",
       " ('\" \"\"Stroudsburg\"\"\"', ' PA'),\n",
       " ('\" \"\"Syracuse\"\"\"', ' NY'),\n",
       " ('\" \"\"Toronto\"\"\"', ' ON'),\n",
       " ('\" \"\"Trenton\"\"\"', ' NJ'),\n",
       " ('\" \"\"Uniontown\"\"\"', ' PA'),\n",
       " ('\" \"\"Utica\"\"\"', ' NY'),\n",
       " ('\" \"\"Warren\"\"\"', ' PA'),\n",
       " ('\" \"\"Washington\"\"\"', ' DC'),\n",
       " ('\" \"\"Waterbury\"\"\"', ' CT'),\n",
       " ('\" \"\"Watertown\"\"\"', ' NY'),\n",
       " ('\" \"\"Williamsport\"\"\"', ' PA'),\n",
       " ('\" \"\"Wilmington\"\"\"', ' DE'),\n",
       " ('\" \"\"Wilmington\"\"\"', ' NC'),\n",
       " ('\" \"\"Winchester\"\"\"', ' VA'),\n",
       " ('\" \"\"Worcester\"\"\"', ' MA')]"
      ]
     },
     "execution_count": 54,
     "metadata": {},
     "output_type": "execute_result"
    }
   ],
   "source": [
    "def get_city_data(sql):\n",
    "    try:\n",
    "        conn = psycopg2.connect(host=\"localhost\",database=\"t81577\", user=\"postgres\", password=\"plus1plus1\") #haha\n",
    "        cur = conn.cursor()\n",
    "        cur.execute(sql)\n",
    "        return cur.fetchall()\n",
    "\n",
    "    except (Exception, psycopg2.Error) as error:\n",
    "        print(\"Error fetching data from PostgreSQL table\", error)\n",
    "\n",
    "    finally:\n",
    "        if (conn):\n",
    "            cur.close()\n",
    "            conn.close()\n",
    "            \n",
    "sql = \"\"\"SELECT city,state FROM cities WHERE lon::integer <80 AND lat::integer >30 ORDER BY city\"\"\"\n",
    "get_city_data(sql)"
   ]
  },
  {
   "cell_type": "code",
   "execution_count": null,
   "metadata": {},
   "outputs": [],
   "source": []
  }
 ],
 "metadata": {
  "kernelspec": {
   "display_name": "Python 3",
   "language": "python",
   "name": "python3"
  },
  "language_info": {
   "codemirror_mode": {
    "name": "ipython",
    "version": 3
   },
   "file_extension": ".py",
   "mimetype": "text/x-python",
   "name": "python",
   "nbconvert_exporter": "python",
   "pygments_lexer": "ipython3",
   "version": "3.8.5"
  }
 },
 "nbformat": 4,
 "nbformat_minor": 4
}
