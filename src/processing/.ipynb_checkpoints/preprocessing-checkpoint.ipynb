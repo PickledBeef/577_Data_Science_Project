{
 "cells": [
  {
   "cell_type": "markdown",
   "metadata": {},
   "source": [
    "### 3. Pre-processing"
   ]
  },
  {
   "cell_type": "code",
   "execution_count": 5,
   "metadata": {
    "ExecuteTime": {
     "end_time": "2021-05-12T05:46:51.742698Z",
     "start_time": "2021-05-12T05:46:51.628427Z"
    }
   },
   "outputs": [],
   "source": [
    "from pathlib import Path\n",
    "import pandas as pd\n",
    "\n",
    "path = Path(\"./preprocessing.ipynb\")\n",
    "abs_path = str(path.parent.absolute())\n",
    "index = [i for i, e in enumerate(abs_path) if e == \"\\\\\"]      \n",
    "parent_path = abs_path[:index[-2]]\n",
    "train_path = parent_path + \"/data/raw/train.csv\"\n",
    "test_path = parent_path + \"/data/raw/test.csv\"\n",
    "\n",
    "data = pd.read_csv(train_path)\n",
    "final_test = pd.read_csv(test_path)\n",
    "cols = ['SalePrice', 'OverallQual', 'GrLivArea', 'GarageCars', 'TotalBsmtSF', 'FullBath', 'YearBuilt', 'YearRemodAdd']\n",
    "fs = ['OverallQual', 'GrLivArea', 'GarageCars', 'TotalBsmtSF', 'FullBath', 'YearBuilt', 'YearRemodAdd']"
   ]
  },
  {
   "cell_type": "code",
   "execution_count": 6,
   "metadata": {
    "ExecuteTime": {
     "end_time": "2021-05-12T05:46:53.450454Z",
     "start_time": "2021-05-12T05:46:53.444470Z"
    }
   },
   "outputs": [],
   "source": [
    "# According to the analysis from preparation, I select following unique features whose correlation is greater than 0.5 with target: \n",
    "\n",
    "# OverallQual      0.790982\n",
    "# GrLivArea        0.708624\n",
    "# GarageCars       0.640409\n",
    "# TotalBsmtSF      0.613581\n",
    "# FullBath         0.560664\n",
    "# YearBuilt        0.522897\n",
    "# YearRemodAdd     0.507101"
   ]
  },
  {
   "cell_type": "code",
   "execution_count": 7,
   "metadata": {
    "ExecuteTime": {
     "end_time": "2021-05-12T05:46:54.206697Z",
     "start_time": "2021-05-12T05:46:54.140170Z"
    }
   },
   "outputs": [],
   "source": [
    "y = data['SalePrice']\n",
    "test_id = final_test['Id']\n",
    "all_data = pd.concat([data, final_test], axis = 0, sort = False)\n",
    "all_data = all_data[fs]"
   ]
  },
  {
   "cell_type": "code",
   "execution_count": 8,
   "metadata": {
    "ExecuteTime": {
     "end_time": "2021-05-12T05:46:55.178236Z",
     "start_time": "2021-05-12T05:46:55.156791Z"
    }
   },
   "outputs": [
    {
     "data": {
      "text/plain": [
       "OverallQual     0\n",
       "GrLivArea       0\n",
       "GarageCars      1\n",
       "TotalBsmtSF     1\n",
       "FullBath        0\n",
       "YearBuilt       0\n",
       "YearRemodAdd    0\n",
       "dtype: int64"
      ]
     },
     "execution_count": 8,
     "metadata": {},
     "output_type": "execute_result"
    }
   ],
   "source": [
    "all_data.isna().sum()"
   ]
  },
  {
   "cell_type": "markdown",
   "metadata": {},
   "source": [
    "<font size=4>Since I will deal with missing values in pipeline when building models, this step is skipped here."
   ]
  },
  {
   "cell_type": "code",
   "execution_count": 9,
   "metadata": {
    "ExecuteTime": {
     "end_time": "2021-05-12T05:46:56.424959Z",
     "start_time": "2021-05-12T05:46:56.418575Z"
    }
   },
   "outputs": [],
   "source": [
    "# Filling the numeric data with mean\n",
    "# Since pipeline will be used, this cell could be skipped\n",
    "\n",
    "# numeric_missed = ['TotalBsmtSF','GarageCars']\n",
    "# for feature in numeric_missed:\n",
    "#     all_data[feature] = all_data[feature].fillna(np.mean(all_data[feature]))"
   ]
  },
  {
   "cell_type": "code",
   "execution_count": 10,
   "metadata": {
    "ExecuteTime": {
     "end_time": "2021-05-12T05:46:59.711657Z",
     "start_time": "2021-05-12T05:46:59.581142Z"
    }
   },
   "outputs": [],
   "source": [
    "output_train = parent_path + \"/data/processed/train.csv\"\n",
    "output_test = parent_path + \"/data/processed/test.csv\"\n",
    "data[cols].to_csv(output_train, index=False)\n",
    "final_test[fs].to_csv(output_test, index=False)"
   ]
  },
  {
   "cell_type": "code",
   "execution_count": null,
   "metadata": {},
   "outputs": [],
   "source": []
  }
 ],
 "metadata": {
  "kernelspec": {
   "display_name": "Python 3",
   "language": "python",
   "name": "python3"
  },
  "language_info": {
   "codemirror_mode": {
    "name": "ipython",
    "version": 3
   },
   "file_extension": ".py",
   "mimetype": "text/x-python",
   "name": "python",
   "nbconvert_exporter": "python",
   "pygments_lexer": "ipython3",
   "version": "3.8.5"
  }
 },
 "nbformat": 4,
 "nbformat_minor": 4
}
