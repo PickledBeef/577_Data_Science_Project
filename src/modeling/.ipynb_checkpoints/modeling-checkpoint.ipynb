{
 "cells": [
  {
   "cell_type": "markdown",
   "metadata": {},
   "source": [
    "### 4. Modeling"
   ]
  },
  {
   "cell_type": "code",
   "execution_count": 1,
   "metadata": {
    "ExecuteTime": {
     "end_time": "2021-05-12T09:38:53.127435Z",
     "start_time": "2021-05-12T09:38:51.910704Z"
    }
   },
   "outputs": [],
   "source": [
    "from pathlib import Path\n",
    "import pandas as pd\n",
    "\n",
    "path = Path(\"./modeling.ipynb\")\n",
    "abs_path = str(path.parent.absolute())\n",
    "index = [i for i, e in enumerate(abs_path) if e == \"\\\\\"]      \n",
    "parent_path = abs_path[:index[-2]]\n",
    "train_path = parent_path + \"/data/processed/train.csv\"\n",
    "test_path = parent_path + \"/data/processed/test.csv\"\n",
    "\n",
    "data = pd.read_csv(train_path)\n",
    "final_test = pd.read_csv(test_path)\n",
    "y = data['SalePrice']\n",
    "data =  data.drop('SalePrice',axis=1)\n",
    "test_id = final_test['Id']"
   ]
  },
  {
   "cell_type": "code",
   "execution_count": 2,
   "metadata": {
    "ExecuteTime": {
     "end_time": "2021-05-12T09:38:55.015797Z",
     "start_time": "2021-05-12T09:38:53.129468Z"
    }
   },
   "outputs": [],
   "source": [
    "from sklearn.model_selection import train_test_split\n",
    "X_train, X_test, y_train, y_test = train_test_split(data, y, test_size = 0.05, random_state = 42)"
   ]
  },
  {
   "cell_type": "code",
   "execution_count": 3,
   "metadata": {
    "ExecuteTime": {
     "end_time": "2021-05-12T09:38:55.194287Z",
     "start_time": "2021-05-12T09:38:55.017759Z"
    }
   },
   "outputs": [],
   "source": [
    "from sklearn.pipeline import Pipeline\n",
    "from sklearn.impute import SimpleImputer\n",
    "from sklearn.preprocessing import MinMaxScaler\n",
    "from sklearn.compose import ColumnTransformer\n",
    "import numpy as np\n",
    "\n",
    "tf_imputer = ColumnTransformer([(\"imputer\", SimpleImputer(missing_values=np.nan, strategy = 'mean'), [0,1,2,3,4,5,6])])\n",
    "\n",
    "pre_pipeline = Pipeline(steps = ([(\"tf_imputer\", tf_imputer),\n",
    "                                ('scaler', MinMaxScaler(feature_range = (0,1)))]))"
   ]
  },
  {
   "cell_type": "markdown",
   "metadata": {},
   "source": [
    "Methods are considered:\n",
    "1. K-nearest-neighbors, \n",
    "2. Decision tree, \n",
    "3. Random forest, \n",
    "4. 2 SVM methods (using a polynomial kernel and a Gaussian kernel),\n",
    "5. 2 (deep) neural networks with Sigmoid activation and ReLu activation functions\n",
    "6. Xgboost"
   ]
  },
  {
   "cell_type": "code",
   "execution_count": 4,
   "metadata": {
    "ExecuteTime": {
     "end_time": "2021-05-12T09:38:55.200271Z",
     "start_time": "2021-05-12T09:38:55.196282Z"
    }
   },
   "outputs": [],
   "source": [
    "from sklearn.model_selection import RandomizedSearchCV\n",
    "from sklearn.base import clone\n",
    "from sklearn.metrics import r2_score, mean_absolute_error"
   ]
  },
  {
   "cell_type": "markdown",
   "metadata": {},
   "source": [
    "## 1. KNN"
   ]
  },
  {
   "cell_type": "code",
   "execution_count": 5,
   "metadata": {
    "ExecuteTime": {
     "end_time": "2021-05-12T09:38:55.237175Z",
     "start_time": "2021-05-12T09:38:55.202266Z"
    }
   },
   "outputs": [
    {
     "name": "stdout",
     "output_type": "stream",
     "text": [
      "Performance for KNN baseline model is:\n",
      "---------------------------------------------\n",
      "R2 score is 0.6966016612071357\n",
      "MAE is 28799.465753424658\n"
     ]
    }
   ],
   "source": [
    "from sklearn.neighbors import KNeighborsClassifier\n",
    "knn_base = clone(pre_pipeline)\n",
    "knn_base.steps.append(('knn', KNeighborsClassifier()))\n",
    "knn_base.fit(X_train, y_train)\n",
    "\n",
    "y_pred = knn_base.predict(X_test)\n",
    "r2_base = r2_score(y_test, y_pred)\n",
    "mae = mean_absolute_error(y_test, y_pred)\n",
    "print(\"Performance for KNN baseline model is:\")\n",
    "print(\"---------------------------------------------\")\n",
    "print('R2 score is {}'.format(r2_base))\n",
    "print('MAE is {}'.format(mae))"
   ]
  },
  {
   "cell_type": "code",
   "execution_count": 6,
   "metadata": {
    "ExecuteTime": {
     "end_time": "2021-05-12T09:38:59.747475Z",
     "start_time": "2021-05-12T09:38:55.239168Z"
    }
   },
   "outputs": [
    {
     "name": "stdout",
     "output_type": "stream",
     "text": [
      "Fitting 3 folds for each of 10 candidates, totalling 30 fits\n"
     ]
    },
    {
     "name": "stderr",
     "output_type": "stream",
     "text": [
      "C:\\Users\\flywi\\anaconda3\\lib\\site-packages\\sklearn\\model_selection\\_split.py:670: UserWarning: The least populated class in y has only 1 members, which is less than n_splits=3.\n",
      "  warnings.warn((\"The least populated class in y has only %d\"\n",
      "[Parallel(n_jobs=-1)]: Using backend LokyBackend with 8 concurrent workers.\n"
     ]
    },
    {
     "name": "stdout",
     "output_type": "stream",
     "text": [
      "Performance for KNN tuned model is:\n",
      "---------------------------------------------\n",
      "R2 score is 0.8092504113885084\n",
      "MAE is 21363.369863013697\n",
      "Improvement of R2 score: 16.17%.\n"
     ]
    },
    {
     "name": "stderr",
     "output_type": "stream",
     "text": [
      "[Parallel(n_jobs=-1)]: Done  30 out of  30 | elapsed:    4.3s finished\n"
     ]
    }
   ],
   "source": [
    "pipeline = clone(pre_pipeline)\n",
    "pipeline.steps.append(('knn', KNeighborsClassifier()))\n",
    "param_dist = {\"knn__n_neighbors\": list(np.linspace(2, 7, 6, dtype = int)),\n",
    "              \"knn__leaf_size\": list(np.linspace(5, 150, 5, dtype = int)),\n",
    "              \"knn__weights\": [\"uniform\", \"distance\"],\n",
    "              \"knn__p\": [1, 2, 3]}\n",
    "random_search = RandomizedSearchCV(estimator = pipeline, param_distributions = param_dist, n_jobs = -1, verbose = 2, cv = 3)\n",
    "random_search.fit(X_train, y_train)\n",
    "knn_improve = random_search.best_estimator_\n",
    "\n",
    "y_pred = knn_improve.predict(X_test)\n",
    "r2 = r2_score(y_test, y_pred)\n",
    "mae = mean_absolute_error(y_test, y_pred)\n",
    "improve =  (r2 - r2_base) / r2_base\n",
    "print(\"Performance for KNN tuned model is:\")\n",
    "print(\"---------------------------------------------\")\n",
    "print('R2 score is {}'.format(r2))\n",
    "print('MAE is {}'.format(mae))\n",
    "print('Improvement of R2 score: {:0.2f}%.'.format( 100 * improve))"
   ]
  },
  {
   "cell_type": "code",
   "execution_count": 7,
   "metadata": {
    "ExecuteTime": {
     "end_time": "2021-05-12T09:38:59.761473Z",
     "start_time": "2021-05-12T09:38:59.749468Z"
    }
   },
   "outputs": [
    {
     "data": {
      "text/plain": [
       "{'knn__weights': 'distance',\n",
       " 'knn__p': 1,\n",
       " 'knn__n_neighbors': 4,\n",
       " 'knn__leaf_size': 41}"
      ]
     },
     "execution_count": 7,
     "metadata": {},
     "output_type": "execute_result"
    }
   ],
   "source": [
    "random_search.best_params_"
   ]
  },
  {
   "cell_type": "markdown",
   "metadata": {},
   "source": [
    "## 2. Decision tree"
   ]
  },
  {
   "cell_type": "code",
   "execution_count": 8,
   "metadata": {
    "ExecuteTime": {
     "end_time": "2021-05-12T09:38:59.912002Z",
     "start_time": "2021-05-12T09:38:59.767424Z"
    }
   },
   "outputs": [
    {
     "name": "stdout",
     "output_type": "stream",
     "text": [
      "Performance for Decision Tree baseline model is:\n",
      "---------------------------------------------\n",
      "R2 score is 0.6856229361149115\n",
      "MAE is 26167.479452054795\n"
     ]
    }
   ],
   "source": [
    "from sklearn import tree\n",
    "dt_base = clone(pre_pipeline)\n",
    "dt_base.steps.append(('dt', tree.DecisionTreeClassifier(random_state = 42)))\n",
    "dt_base.fit(X_train, y_train)\n",
    "\n",
    "y_pred = dt_base.predict(X_test)\n",
    "r2_base = r2_score(y_test, y_pred)\n",
    "mae = mean_absolute_error(y_test, y_pred)\n",
    "print(\"Performance for Decision Tree baseline model is:\")\n",
    "print(\"---------------------------------------------\")\n",
    "print('R2 score is {}'.format(r2_base))\n",
    "print('MAE is {}'.format(mae))"
   ]
  },
  {
   "cell_type": "code",
   "execution_count": 9,
   "metadata": {
    "ExecuteTime": {
     "end_time": "2021-05-12T09:39:00.410656Z",
     "start_time": "2021-05-12T09:38:59.913988Z"
    }
   },
   "outputs": [
    {
     "name": "stdout",
     "output_type": "stream",
     "text": [
      "Fitting 3 folds for each of 10 candidates, totalling 30 fits\n"
     ]
    },
    {
     "name": "stderr",
     "output_type": "stream",
     "text": [
      "C:\\Users\\flywi\\anaconda3\\lib\\site-packages\\sklearn\\model_selection\\_split.py:670: UserWarning: The least populated class in y has only 1 members, which is less than n_splits=3.\n",
      "  warnings.warn((\"The least populated class in y has only %d\"\n",
      "[Parallel(n_jobs=-1)]: Using backend LokyBackend with 8 concurrent workers.\n"
     ]
    },
    {
     "name": "stdout",
     "output_type": "stream",
     "text": [
      "Performance for Decision Tree tuned model is:\n",
      "---------------------------------------------\n",
      "R2 score is 0.6789868125230183\n",
      "MAE is 27554.972602739726\n",
      "Improvement of R2 score: -0.97%.\n"
     ]
    },
    {
     "name": "stderr",
     "output_type": "stream",
     "text": [
      "[Parallel(n_jobs=-1)]: Done  30 out of  30 | elapsed:    0.3s finished\n"
     ]
    }
   ],
   "source": [
    "pipeline = clone(pre_pipeline)\n",
    "pipeline.steps.append(('dt', tree.DecisionTreeClassifier(random_state = 42)))\n",
    "param_dist = {\"dt__criterion\": [\"gini\", \"entropy\"],\n",
    "              \"dt__splitter\": [\"best\", \"random\"],\n",
    "              \"dt__max_features\": [\"auto\", \"sqrt\", \"log2\", None]}\n",
    "random_search = RandomizedSearchCV(estimator = pipeline, param_distributions = param_dist, n_jobs = -1, verbose = 2, cv = 3)\n",
    "random_search.fit(X_train, y_train)\n",
    "dt_improve = random_search.best_estimator_\n",
    "\n",
    "y_pred = dt_improve.predict(X_test)\n",
    "r2 = r2_score(y_test, y_pred)\n",
    "mae = mean_absolute_error(y_test, y_pred)\n",
    "improve =  (r2 - r2_base) / r2_base\n",
    "print(\"Performance for Decision Tree tuned model is:\")\n",
    "print(\"---------------------------------------------\")\n",
    "print('R2 score is {}'.format(r2))\n",
    "print('MAE is {}'.format(mae))\n",
    "print('Improvement of R2 score: {:0.2f}%.'.format( 100 * improve))"
   ]
  },
  {
   "cell_type": "code",
   "execution_count": 10,
   "metadata": {
    "ExecuteTime": {
     "end_time": "2021-05-12T09:39:00.419598Z",
     "start_time": "2021-05-12T09:39:00.413615Z"
    }
   },
   "outputs": [
    {
     "data": {
      "text/plain": [
       "{'dt__splitter': 'best', 'dt__max_features': 'auto', 'dt__criterion': 'gini'}"
      ]
     },
     "execution_count": 10,
     "metadata": {},
     "output_type": "execute_result"
    }
   ],
   "source": [
    "random_search.best_params_"
   ]
  },
  {
   "cell_type": "markdown",
   "metadata": {},
   "source": [
    "## 3. Random forest"
   ]
  },
  {
   "cell_type": "code",
   "execution_count": 11,
   "metadata": {
    "ExecuteTime": {
     "end_time": "2021-05-12T09:39:03.433645Z",
     "start_time": "2021-05-12T09:39:00.421593Z"
    }
   },
   "outputs": [
    {
     "name": "stdout",
     "output_type": "stream",
     "text": [
      "Performance for Random Forest baseline model is:\n",
      "---------------------------------------------\n",
      "R2 score is 0.766357912256961\n",
      "MAE is 22094.739726027397\n"
     ]
    }
   ],
   "source": [
    "from sklearn import ensemble\n",
    "rf_base = clone(pre_pipeline)\n",
    "rf_base.steps.append(('rf', ensemble.RandomForestClassifier(random_state = 42)))\n",
    "rf_base.fit(X_train, y_train)\n",
    "\n",
    "y_pred = rf_base.predict(X_test)\n",
    "r2_base = r2_score(y_test, y_pred)\n",
    "mae = mean_absolute_error(y_test, y_pred)\n",
    "print(\"Performance for Random Forest baseline model is:\")\n",
    "print(\"---------------------------------------------\")\n",
    "print('R2 score is {}'.format(r2_base))\n",
    "print('MAE is {}'.format(mae))"
   ]
  },
  {
   "cell_type": "code",
   "execution_count": 12,
   "metadata": {
    "ExecuteTime": {
     "end_time": "2021-05-12T09:44:55.497199Z",
     "start_time": "2021-05-12T09:39:03.435641Z"
    }
   },
   "outputs": [
    {
     "name": "stdout",
     "output_type": "stream",
     "text": [
      "Fitting 3 folds for each of 10 candidates, totalling 30 fits\n"
     ]
    },
    {
     "name": "stderr",
     "output_type": "stream",
     "text": [
      "C:\\Users\\flywi\\anaconda3\\lib\\site-packages\\sklearn\\model_selection\\_split.py:670: UserWarning: The least populated class in y has only 1 members, which is less than n_splits=3.\n",
      "  warnings.warn((\"The least populated class in y has only %d\"\n",
      "[Parallel(n_jobs=-1)]: Using backend LokyBackend with 8 concurrent workers.\n",
      "[Parallel(n_jobs=-1)]: Done  30 out of  30 | elapsed:  5.7min finished\n"
     ]
    },
    {
     "name": "stdout",
     "output_type": "stream",
     "text": [
      "Performance for Random Forest tuned model is:\n",
      "---------------------------------------------\n",
      "R2 score is 0.7321959992546595\n",
      "MAE is 22572.630136986303\n",
      "Improvement of R2 score: -4.46%.\n"
     ]
    }
   ],
   "source": [
    "pipeline = clone(pre_pipeline)\n",
    "pipeline.steps.append(('rf', ensemble.RandomForestClassifier(random_state = 42)))\n",
    "param_dist = {\"rf__n_estimators\": list(np.linspace(10, 2000, 20, dtype = int)),\n",
    "              \"rf__criterion\": [\"gini\", \"entropy\"],\n",
    "              \"rf__max_depth\": [3,4,5,6,7,8,9,10,11,12,13,None],\n",
    "              \"rf__max_features\": [\"auto\", \"sqrt\", \"log2\"]}\n",
    "random_search = RandomizedSearchCV(estimator = pipeline, param_distributions = param_dist, n_jobs = -1, verbose = 2, cv = 3)\n",
    "random_search.fit(X_train, y_train)\n",
    "rf_improve = random_search.best_estimator_\n",
    "\n",
    "y_pred = rf_improve.predict(X_test)\n",
    "r2 = r2_score(y_test, y_pred)\n",
    "mae = mean_absolute_error(y_test, y_pred)\n",
    "improve =  (r2 - r2_base) / r2_base\n",
    "print(\"Performance for Random Forest tuned model is:\")\n",
    "print(\"---------------------------------------------\")\n",
    "print('R2 score is {}'.format(r2))\n",
    "print('MAE is {}'.format(mae))\n",
    "print('Improvement of R2 score: {:0.2f}%.'.format( 100 * improve))"
   ]
  },
  {
   "cell_type": "code",
   "execution_count": 13,
   "metadata": {
    "ExecuteTime": {
     "end_time": "2021-05-12T09:44:55.515150Z",
     "start_time": "2021-05-12T09:44:55.502185Z"
    }
   },
   "outputs": [
    {
     "data": {
      "text/plain": [
       "{'rf__n_estimators': 1162,\n",
       " 'rf__max_features': 'log2',\n",
       " 'rf__max_depth': 5,\n",
       " 'rf__criterion': 'gini'}"
      ]
     },
     "execution_count": 13,
     "metadata": {},
     "output_type": "execute_result"
    }
   ],
   "source": [
    "random_search.best_params_"
   ]
  },
  {
   "cell_type": "markdown",
   "metadata": {},
   "source": [
    "## 4. SVM"
   ]
  },
  {
   "cell_type": "code",
   "execution_count": 14,
   "metadata": {
    "ExecuteTime": {
     "end_time": "2021-05-12T09:44:57.078104Z",
     "start_time": "2021-05-12T09:44:55.516148Z"
    }
   },
   "outputs": [
    {
     "name": "stdout",
     "output_type": "stream",
     "text": [
      "Performance for SVM baseline model is:\n",
      "---------------------------------------------\n",
      "R2 score is 0.5395299138520958\n",
      "MAE is 33395.72602739726\n"
     ]
    }
   ],
   "source": [
    "from sklearn.svm import SVC\n",
    "svm_base = clone(pre_pipeline)\n",
    "svm_base.steps.append(('svm', SVC(random_state = 42)))\n",
    "svm_base.fit(X_train, y_train)\n",
    "\n",
    "y_pred = svm_base.predict(X_test)\n",
    "r2_base = r2_score(y_test, y_pred)\n",
    "mae = mean_absolute_error(y_test, y_pred)\n",
    "print(\"Performance for SVM baseline model is:\")\n",
    "print(\"---------------------------------------------\")\n",
    "print('R2 score is {}'.format(r2_base))\n",
    "print('MAE is {}'.format(mae))"
   ]
  },
  {
   "cell_type": "code",
   "execution_count": 15,
   "metadata": {
    "ExecuteTime": {
     "end_time": "2021-05-12T09:45:10.393461Z",
     "start_time": "2021-05-12T09:44:57.080099Z"
    }
   },
   "outputs": [
    {
     "name": "stdout",
     "output_type": "stream",
     "text": [
      "Fitting 3 folds for each of 10 candidates, totalling 30 fits\n"
     ]
    },
    {
     "name": "stderr",
     "output_type": "stream",
     "text": [
      "C:\\Users\\flywi\\anaconda3\\lib\\site-packages\\sklearn\\model_selection\\_split.py:670: UserWarning: The least populated class in y has only 1 members, which is less than n_splits=3.\n",
      "  warnings.warn((\"The least populated class in y has only %d\"\n",
      "[Parallel(n_jobs=-1)]: Using backend LokyBackend with 8 concurrent workers.\n",
      "[Parallel(n_jobs=-1)]: Done  30 out of  30 | elapsed:   11.7s finished\n"
     ]
    },
    {
     "name": "stdout",
     "output_type": "stream",
     "text": [
      "Performance for SVM tuned model is:\n",
      "---------------------------------------------\n",
      "R2 score is 0.5105028066065995\n",
      "MAE is 34475.17808219178\n",
      "Improvement of R2 score: -5.38%.\n"
     ]
    }
   ],
   "source": [
    "pipeline = clone(pre_pipeline)\n",
    "pipeline.steps.append(('svm', SVC(random_state = 42)))\n",
    "param_dist = {\"svm__kernel\": [\"poly\", \"rbf\"],\n",
    "              \"svm__degree\": [2,3,4,5],\n",
    "              \"svm__C\": list(np.linspace(1.0, 20.0, 5, dtype = float)),\n",
    "              \"svm__gamma\": [\"scale\", \"auto\"] }\n",
    "random_search = RandomizedSearchCV(estimator = pipeline, param_distributions = param_dist, n_jobs = -1, verbose = 2, cv = 3)\n",
    "random_search.fit(X_train, y_train)\n",
    "svm_improve = random_search.best_estimator_\n",
    "\n",
    "y_pred = svm_improve.predict(X_test)\n",
    "r2 = r2_score(y_test, y_pred)\n",
    "mae = mean_absolute_error(y_test, y_pred)\n",
    "improve =  (r2 - r2_base) / r2_base\n",
    "print(\"Performance for SVM tuned model is:\")\n",
    "print(\"---------------------------------------------\")\n",
    "print('R2 score is {}'.format(r2))\n",
    "print('MAE is {}'.format(mae))\n",
    "print('Improvement of R2 score: {:0.2f}%.'.format( 100 * improve))"
   ]
  },
  {
   "cell_type": "code",
   "execution_count": 16,
   "metadata": {
    "ExecuteTime": {
     "end_time": "2021-05-12T09:45:10.400316Z",
     "start_time": "2021-05-12T09:45:10.395427Z"
    }
   },
   "outputs": [
    {
     "data": {
      "text/plain": [
       "{'svm__kernel': 'rbf', 'svm__gamma': 'auto', 'svm__degree': 2, 'svm__C': 10.5}"
      ]
     },
     "execution_count": 16,
     "metadata": {},
     "output_type": "execute_result"
    }
   ],
   "source": [
    "random_search.best_params_"
   ]
  },
  {
   "cell_type": "markdown",
   "metadata": {},
   "source": [
    "## 5. Neural network"
   ]
  },
  {
   "cell_type": "code",
   "execution_count": 32,
   "metadata": {
    "ExecuteTime": {
     "end_time": "2021-05-12T10:24:34.181368Z",
     "start_time": "2021-05-12T10:24:20.602157Z"
    }
   },
   "outputs": [
    {
     "name": "stdout",
     "output_type": "stream",
     "text": [
      "Performance for Neural Network baseline model is:\n",
      "---------------------------------------------\n",
      "R2 score is 0.7474809530041818\n",
      "MAE is 25130.438356164384\n"
     ]
    },
    {
     "name": "stderr",
     "output_type": "stream",
     "text": [
      "C:\\Users\\flywi\\anaconda3\\lib\\site-packages\\sklearn\\neural_network\\_multilayer_perceptron.py:582: ConvergenceWarning: Stochastic Optimizer: Maximum iterations (200) reached and the optimization hasn't converged yet.\n",
      "  warnings.warn(\n"
     ]
    }
   ],
   "source": [
    "from sklearn.neural_network import MLPClassifier\n",
    "nn_base = clone(pre_pipeline)\n",
    "nn_base.steps.append(('nn', MLPClassifier(random_state = 42)))\n",
    "nn_base.fit(X_train, y_train)\n",
    "\n",
    "y_pred = nn_base.predict(X_test)\n",
    "r2_base = r2_score(y_test, y_pred)\n",
    "mae = mean_absolute_error(y_test, y_pred)\n",
    "print(\"Performance for Neural Network baseline model is:\")\n",
    "print(\"---------------------------------------------\")\n",
    "print('R2 score is {}'.format(r2_base))\n",
    "print('MAE is {}'.format(mae))"
   ]
  },
  {
   "cell_type": "code",
   "execution_count": 33,
   "metadata": {
    "ExecuteTime": {
     "end_time": "2021-05-12T10:32:49.899489Z",
     "start_time": "2021-05-12T10:24:34.184357Z"
    },
    "scrolled": true
   },
   "outputs": [
    {
     "name": "stderr",
     "output_type": "stream",
     "text": [
      "C:\\Users\\flywi\\anaconda3\\lib\\site-packages\\sklearn\\model_selection\\_split.py:670: UserWarning: The least populated class in y has only 1 members, which is less than n_splits=5.\n",
      "  warnings.warn((\"The least populated class in y has only %d\"\n",
      "[Parallel(n_jobs=-1)]: Using backend LokyBackend with 8 concurrent workers.\n"
     ]
    },
    {
     "name": "stdout",
     "output_type": "stream",
     "text": [
      "Fitting 5 folds for each of 10 candidates, totalling 50 fits\n"
     ]
    },
    {
     "name": "stderr",
     "output_type": "stream",
     "text": [
      "[Parallel(n_jobs=-1)]: Done  25 tasks      | elapsed:  2.8min\n",
      "[Parallel(n_jobs=-1)]: Done  50 out of  50 | elapsed:  7.0min finished\n"
     ]
    },
    {
     "name": "stdout",
     "output_type": "stream",
     "text": [
      "Performance for SVM tuned model is:\n",
      "---------------------------------------------\n",
      "R2 score is 0.8603881352787641\n",
      "MAE is 18493.04109589041\n",
      "Improvement of R2 score: 15.11%.\n"
     ]
    },
    {
     "name": "stderr",
     "output_type": "stream",
     "text": [
      "C:\\Users\\flywi\\anaconda3\\lib\\site-packages\\sklearn\\neural_network\\_multilayer_perceptron.py:471: ConvergenceWarning: lbfgs failed to converge (status=1):\n",
      "STOP: TOTAL NO. of ITERATIONS REACHED LIMIT.\n",
      "\n",
      "Increase the number of iterations (max_iter) or scale the data as shown in:\n",
      "    https://scikit-learn.org/stable/modules/preprocessing.html\n",
      "  self.n_iter_ = _check_optimize_result(\"lbfgs\", opt_res, self.max_iter)\n"
     ]
    }
   ],
   "source": [
    "pipeline = clone(pre_pipeline)\n",
    "pipeline.steps.append(('nn', MLPClassifier(random_state = 42)))\n",
    "param_dist = {\"nn__hidden_layer_sizes\": [(100,), (100,5), (100,10)],\n",
    "              \"nn__activation\":[\"logistic\", \"relu\"],\n",
    "              \"nn__solver\": [\"lbfgs\", \"sgd\", \"adam\"],\n",
    "              \"nn__learning_rate\": [\"constant\", \"invscaling\", \"adaptive\"],\n",
    "              \"nn__max_iter\": list(np.linspace(800, 1200, 10, dtype = int)),\n",
    "              \"nn__early_stopping\": [True]}\n",
    "random_search = RandomizedSearchCV(estimator = pipeline, param_distributions = param_dist, n_jobs = -1, verbose = 2, cv = 5)\n",
    "random_search.fit(X_train, y_train)\n",
    "nn_improve = random_search.best_estimator_\n",
    "\n",
    "y_pred = nn_improve.predict(X_test)\n",
    "r2 = r2_score(y_test, y_pred)\n",
    "mae = mean_absolute_error(y_test, y_pred)\n",
    "improve =  (r2 - r2_base) / r2_base\n",
    "print(\"Performance for SVM tuned model is:\")\n",
    "print(\"---------------------------------------------\")\n",
    "print('R2 score is {}'.format(r2))\n",
    "print('MAE is {}'.format(mae))\n",
    "print('Improvement of R2 score: {:0.2f}%.'.format( 100 * improve))"
   ]
  },
  {
   "cell_type": "code",
   "execution_count": 34,
   "metadata": {
    "ExecuteTime": {
     "end_time": "2021-05-12T11:10:44.991255Z",
     "start_time": "2021-05-12T11:10:44.978337Z"
    }
   },
   "outputs": [
    {
     "data": {
      "text/plain": [
       "{'nn__solver': 'lbfgs',\n",
       " 'nn__max_iter': 977,\n",
       " 'nn__learning_rate': 'adaptive',\n",
       " 'nn__hidden_layer_sizes': (100, 5),\n",
       " 'nn__early_stopping': True,\n",
       " 'nn__activation': 'logistic'}"
      ]
     },
     "execution_count": 34,
     "metadata": {},
     "output_type": "execute_result"
    }
   ],
   "source": [
    "random_search.best_params_"
   ]
  },
  {
   "cell_type": "markdown",
   "metadata": {},
   "source": [
    "## 6. Xgboost"
   ]
  },
  {
   "cell_type": "markdown",
   "metadata": {
    "ExecuteTime": {
     "end_time": "2021-05-12T07:26:48.018307Z",
     "start_time": "2021-05-12T07:26:48.000390Z"
    }
   },
   "source": [
    "XGBoost is an open-source software library which provides a regularizing gradient boosting framework for C++, Java, Python, R, Julia, Perl, and Scala.\n",
    "\n",
    "According to answers from the question: [Is it necessary to scale the target value in addition to scaling features for regression analysis?](https://stats.stackexchange.com/questions/111467/is-it-necessary-to-scale-the-target-value-in-addition-to-scaling-features-for-re), I may try normalization."
   ]
  },
  {
   "cell_type": "code",
   "execution_count": 20,
   "metadata": {
    "ExecuteTime": {
     "end_time": "2021-05-12T09:48:09.759456Z",
     "start_time": "2021-05-12T09:48:08.777552Z"
    }
   },
   "outputs": [
    {
     "name": "stdout",
     "output_type": "stream",
     "text": [
      "Performance for Xgboost baseline model is:\n",
      "---------------------------------------------\n",
      "R2 score is 0.8821370550045167\n",
      "MAE is 15292.036601027397\n"
     ]
    },
    {
     "name": "stderr",
     "output_type": "stream",
     "text": [
      "C:\\Users\\flywi\\anaconda3\\lib\\site-packages\\xgboost\\data.py:112: UserWarning: Use subset (sliced data) of np.ndarray is not recommended because it will generate extra copies and increase memory consumption\n",
      "  warnings.warn(\n"
     ]
    }
   ],
   "source": [
    "import xgboost as XGB\n",
    "xgb_base = clone(pre_pipeline)\n",
    "xgb_base.steps.append(('xgb', XGB.XGBRegressor(random_state = 42)))\n",
    "xgb_base.fit(X_train, y_train)\n",
    "\n",
    "y_pred = xgb_base.predict(X_test)\n",
    "r2_base = r2_score(y_test, y_pred)\n",
    "mae = mean_absolute_error(y_test, y_pred)\n",
    "print(\"Performance for Xgboost baseline model is:\")\n",
    "print(\"---------------------------------------------\")\n",
    "print('R2 score is {}'.format(r2_base))\n",
    "print('MAE is {}'.format(mae))"
   ]
  },
  {
   "cell_type": "code",
   "execution_count": 21,
   "metadata": {
    "ExecuteTime": {
     "end_time": "2021-05-12T09:49:13.598514Z",
     "start_time": "2021-05-12T09:48:09.762446Z"
    }
   },
   "outputs": [
    {
     "name": "stderr",
     "output_type": "stream",
     "text": [
      "[Parallel(n_jobs=-1)]: Using backend LokyBackend with 8 concurrent workers.\n"
     ]
    },
    {
     "name": "stdout",
     "output_type": "stream",
     "text": [
      "Fitting 3 folds for each of 10 candidates, totalling 30 fits\n"
     ]
    },
    {
     "name": "stderr",
     "output_type": "stream",
     "text": [
      "[Parallel(n_jobs=-1)]: Done  30 out of  30 | elapsed:  1.1min finished\n"
     ]
    },
    {
     "name": "stdout",
     "output_type": "stream",
     "text": [
      "Performance for Xgboost tuned model is:\n",
      "---------------------------------------------\n",
      "R2 score is 0.8935543425277099\n",
      "MAE is 13961.620933219177\n",
      "Improvement of R2 score: 1.29%.\n"
     ]
    },
    {
     "name": "stderr",
     "output_type": "stream",
     "text": [
      "C:\\Users\\flywi\\anaconda3\\lib\\site-packages\\xgboost\\data.py:112: UserWarning: Use subset (sliced data) of np.ndarray is not recommended because it will generate extra copies and increase memory consumption\n",
      "  warnings.warn(\n"
     ]
    }
   ],
   "source": [
    "pipeline = clone(pre_pipeline)\n",
    "pipeline.steps.append(('xgb', XGB.XGBRegressor(random_state = 42)))\n",
    "param_dist = {\"xgb__n_estimators\": list(np.linspace(10, 3000, 20, dtype = int)),\n",
    "              \"xgb__max_depth\":list(np.linspace(5, 30, 25, dtype = int)),\n",
    "              \"xgb__learning_rate\": list(np.linspace(0.0, 1.0, 40, dtype = float)),\n",
    "              \"xgb__gamma\": list(np.linspace(0.0, 10.0, 40, dtype = float))}\n",
    "random_search = RandomizedSearchCV(estimator = pipeline, param_distributions = param_dist, n_jobs = -1, verbose = 2, cv = 3)\n",
    "random_search.fit(X_train, y_train)\n",
    "xgb_improve = random_search.best_estimator_\n",
    "\n",
    "y_pred = xgb_improve.predict(X_test)\n",
    "r2 = r2_score(y_test, y_pred)\n",
    "mae = mean_absolute_error(y_test, y_pred)\n",
    "improve =  (r2 - r2_base) / r2_base\n",
    "print(\"Performance for Xgboost tuned model is:\")\n",
    "print(\"---------------------------------------------\")\n",
    "print('R2 score is {}'.format(r2))\n",
    "print('MAE is {}'.format(mae))\n",
    "print('Improvement of R2 score: {:0.2f}%.'.format( 100 * improve))"
   ]
  },
  {
   "cell_type": "code",
   "execution_count": 22,
   "metadata": {
    "ExecuteTime": {
     "end_time": "2021-05-12T09:49:13.607490Z",
     "start_time": "2021-05-12T09:49:13.601506Z"
    }
   },
   "outputs": [
    {
     "data": {
      "text/plain": [
       "{'xgb__n_estimators': 167,\n",
       " 'xgb__max_depth': 6,\n",
       " 'xgb__learning_rate': 0.07692307692307693,\n",
       " 'xgb__gamma': 1.7948717948717947}"
      ]
     },
     "execution_count": 22,
     "metadata": {},
     "output_type": "execute_result"
    }
   ],
   "source": [
    "random_search.best_params_"
   ]
  },
  {
   "cell_type": "markdown",
   "metadata": {},
   "source": [
    "# Evaluation"
   ]
  },
  {
   "cell_type": "code",
   "execution_count": 35,
   "metadata": {
    "ExecuteTime": {
     "end_time": "2021-05-12T11:12:06.224162Z",
     "start_time": "2021-05-12T11:12:06.211869Z"
    }
   },
   "outputs": [],
   "source": [
    "compare_table = {\"KNN\": [4.51, 0.6966016612071357, 0.8092504113885084], \n",
    "                 \"Decision Tree\": [0.497, 0.6856229361149115, 0.6789868125230183],\n",
    "                 \"Random Forest\": [352, 0.766357912256961, 0.7321959992546595],\n",
    "                 \"SVM\": [13.3, 0.5395299138520958, 0.5105028066065995], \n",
    "                 \"Neural Network\": [496, 0.7474809530041818, 0.8603881352787641],\n",
    "                 \"Xgboost\": [63.84, 0.8821370550045167, 0.8935543425277099]}"
   ]
  },
  {
   "cell_type": "code",
   "execution_count": 36,
   "metadata": {
    "ExecuteTime": {
     "end_time": "2021-05-12T11:12:07.024334Z",
     "start_time": "2021-05-12T11:12:07.006453Z"
    }
   },
   "outputs": [
    {
     "data": {
      "text/html": [
       "<div>\n",
       "<style scoped>\n",
       "    .dataframe tbody tr th:only-of-type {\n",
       "        vertical-align: middle;\n",
       "    }\n",
       "\n",
       "    .dataframe tbody tr th {\n",
       "        vertical-align: top;\n",
       "    }\n",
       "\n",
       "    .dataframe thead th {\n",
       "        text-align: right;\n",
       "    }\n",
       "</style>\n",
       "<table border=\"1\" class=\"dataframe\">\n",
       "  <thead>\n",
       "    <tr style=\"text-align: right;\">\n",
       "      <th></th>\n",
       "      <th>Time cost for Randomized Search (seconds)</th>\n",
       "      <th>R2 score for baseline model</th>\n",
       "      <th>R2 score for tuned model</th>\n",
       "    </tr>\n",
       "  </thead>\n",
       "  <tbody>\n",
       "    <tr>\n",
       "      <th>KNN</th>\n",
       "      <td>4.510</td>\n",
       "      <td>0.696602</td>\n",
       "      <td>0.809250</td>\n",
       "    </tr>\n",
       "    <tr>\n",
       "      <th>Decision Tree</th>\n",
       "      <td>0.497</td>\n",
       "      <td>0.685623</td>\n",
       "      <td>0.678987</td>\n",
       "    </tr>\n",
       "    <tr>\n",
       "      <th>Random Forest</th>\n",
       "      <td>352.000</td>\n",
       "      <td>0.766358</td>\n",
       "      <td>0.732196</td>\n",
       "    </tr>\n",
       "    <tr>\n",
       "      <th>SVM</th>\n",
       "      <td>13.300</td>\n",
       "      <td>0.539530</td>\n",
       "      <td>0.510503</td>\n",
       "    </tr>\n",
       "    <tr>\n",
       "      <th>Neural Network</th>\n",
       "      <td>496.000</td>\n",
       "      <td>0.747481</td>\n",
       "      <td>0.860388</td>\n",
       "    </tr>\n",
       "    <tr>\n",
       "      <th>Xgboost</th>\n",
       "      <td>63.840</td>\n",
       "      <td>0.882137</td>\n",
       "      <td>0.893554</td>\n",
       "    </tr>\n",
       "  </tbody>\n",
       "</table>\n",
       "</div>"
      ],
      "text/plain": [
       "                Time cost for Randomized Search (seconds)  \\\n",
       "KNN                                                 4.510   \n",
       "Decision Tree                                       0.497   \n",
       "Random Forest                                     352.000   \n",
       "SVM                                                13.300   \n",
       "Neural Network                                    496.000   \n",
       "Xgboost                                            63.840   \n",
       "\n",
       "                R2 score for baseline model  R2 score for tuned model  \n",
       "KNN                                0.696602                  0.809250  \n",
       "Decision Tree                      0.685623                  0.678987  \n",
       "Random Forest                      0.766358                  0.732196  \n",
       "SVM                                0.539530                  0.510503  \n",
       "Neural Network                     0.747481                  0.860388  \n",
       "Xgboost                            0.882137                  0.893554  "
      ]
     },
     "execution_count": 36,
     "metadata": {},
     "output_type": "execute_result"
    }
   ],
   "source": [
    "df_cmp = pd.DataFrame(compare_table, dtype=float, \n",
    "            index = [\"Time cost for Randomized Search (seconds)\", \"R2 score for baseline model\", \"R2 score for tuned model\"])\n",
    "df_cmp.T"
   ]
  },
  {
   "cell_type": "code",
   "execution_count": 37,
   "metadata": {
    "ExecuteTime": {
     "end_time": "2021-05-12T11:12:08.561422Z",
     "start_time": "2021-05-12T11:12:08.315775Z"
    }
   },
   "outputs": [
    {
     "data": {
      "text/plain": [
       "<AxesSubplot:title={'center':'Time cost for Randomized Search (seconds)'}>"
      ]
     },
     "execution_count": 37,
     "metadata": {},
     "output_type": "execute_result"
    },
    {
     "data": {
      "image/png": "[encoded data removed]",
      "text/plain": [
       "<Figure size 720x576 with 1 Axes>"
      ]
     },
     "metadata": {
      "needs_background": "light"
     },
     "output_type": "display_data"
    }
   ],
   "source": [
    "df_cmp.T[\"Time cost for Randomized Search (seconds)\"].plot.bar(figsize=(10,8), rot=0, title=\"Time cost for Randomized Search (seconds)\")"
   ]
  },
  {
   "cell_type": "code",
   "execution_count": 38,
   "metadata": {
    "ExecuteTime": {
     "end_time": "2021-05-12T11:12:13.405842Z",
     "start_time": "2021-05-12T11:12:13.079800Z"
    }
   },
   "outputs": [
    {
     "data": {
      "text/plain": [
       "<AxesSubplot:title={'center':'R2 score for models with/without tuning'}>"
      ]
     },
     "execution_count": 38,
     "metadata": {},
     "output_type": "execute_result"
    },
    {
     "data": {
      "image/png": "[encoded data removed]",
      "text/plain": [
       "<Figure size 864x864 with 1 Axes>"
      ]
     },
     "metadata": {
      "needs_background": "light"
     },
     "output_type": "display_data"
    }
   ],
   "source": [
    "df_cmp.T[[\"R2 score for baseline model\", \"R2 score for tuned model\"]].plot.bar(figsize=(12,12), rot=0, title=\"R2 score for models with/without tuning\")"
   ]
  },
  {
   "cell_type": "markdown",
   "metadata": {},
   "source": [
    "<font size=4>\n",
    "    Combine both figures above, there're two choices after balancing time cost and prediction accuarcy:<br>\n",
    "    1. KNN benefits more on time saving <br>\n",
    "    2. Xgboost benefits more on accurate prediction <br>\n",
    "</font>"
   ]
  },
  {
   "cell_type": "code",
   "execution_count": 27,
   "metadata": {
    "ExecuteTime": {
     "end_time": "2021-05-12T09:49:14.793229Z",
     "start_time": "2021-05-12T09:49:14.750343Z"
    }
   },
   "outputs": [
    {
     "name": "stderr",
     "output_type": "stream",
     "text": [
      "C:\\Users\\flywi\\anaconda3\\lib\\site-packages\\sklearn\\compose\\_column_transformer.py:437: FutureWarning: Given feature/column names or counts do not match the ones for the data given during fit. This will fail from v0.24.\n",
      "  warnings.warn(\"Given feature/column names or counts do not match \"\n",
      "C:\\Users\\flywi\\anaconda3\\lib\\site-packages\\xgboost\\data.py:112: UserWarning: Use subset (sliced data) of np.ndarray is not recommended because it will generate extra copies and increase memory consumption\n",
      "  warnings.warn(\n"
     ]
    }
   ],
   "source": [
    "y_predict = xgb_improve.predict(final_test)\n",
    "output = pd.DataFrame()\n",
    "output['Id'] = test_id\n",
    "output['SalePrice'] = y_predict\n",
    "output_path = parent_path + \"/data/output/submission.csv\"\n",
    "output.to_csv(output_path, index=False)"
   ]
  }
 ],
 "metadata": {
  "kernelspec": {
   "display_name": "Python 3",
   "language": "python",
   "name": "python3"
  },
  "language_info": {
   "codemirror_mode": {
    "name": "ipython",
    "version": 3
   },
   "file_extension": ".py",
   "mimetype": "text/x-python",
   "name": "python",
   "nbconvert_exporter": "python",
   "pygments_lexer": "ipython3",
   "version": "3.8.5"
  }
 },
 "nbformat": 4,
 "nbformat_minor": 4
}
